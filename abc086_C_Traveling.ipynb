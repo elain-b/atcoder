{
  "nbformat": 4,
  "nbformat_minor": 0,
  "metadata": {
    "colab": {
      "name": "abc086_C_Traveling.ipynb",
      "provenance": [],
      "include_colab_link": true
    },
    "kernelspec": {
      "name": "python3",
      "display_name": "Python 3"
    }
  },
  "cells": [
    {
      "cell_type": "markdown",
      "metadata": {
        "id": "view-in-github",
        "colab_type": "text"
      },
      "source": [
        "<a href=\"https://colab.research.google.com/github/elain-b/atcoder/blob/master/abc086_C_Traveling.ipynb\" target=\"_parent\"><img src=\"https://colab.research.google.com/assets/colab-badge.svg\" alt=\"Open In Colab\"/></a>"
      ]
    },
    {
      "cell_type": "code",
      "metadata": {
        "id": "iM_oQavMjkV6",
        "colab_type": "code",
        "outputId": "96a57ddf-e2ba-4c6d-f827-3e1bb56b8426",
        "colab": {
          "base_uri": "https://localhost:8080/",
          "height": 85
        }
      },
      "source": [
        "N = int(input())\n",
        "a = 0\n",
        "for i in range(N):\n",
        "  a = list(map(int, input().split()))\n",
        "  if a[0] < sum(a) - a[0]:\n",
        "    print(\"No\")\n",
        "    exit()\n",
        "  if (sum(a) - a[0] - a[0])%2 != 0:\n",
        "    print(\"No\")\n",
        "    exit()\n",
        "print(\"Yes\")"
      ],
      "execution_count": 0,
      "outputs": [
        {
          "output_type": "stream",
          "text": [
            "2\n",
            "3 1 2\n",
            "6 1 1\n",
            "Yes\n"
          ],
          "name": "stdout"
        }
      ]
    },
    {
      "cell_type": "code",
      "metadata": {
        "id": "ryhUavcdysGv",
        "colab_type": "code",
        "outputId": "16b8d3cf-d556-44aa-aff3-74cabe717ecf",
        "colab": {
          "base_uri": "https://localhost:8080/",
          "height": 34
        }
      },
      "source": [
        "p = 5%2\n",
        "print(p)"
      ],
      "execution_count": 0,
      "outputs": [
        {
          "output_type": "stream",
          "text": [
            "1\n"
          ],
          "name": "stdout"
        }
      ]
    },
    {
      "cell_type": "markdown",
      "metadata": {
        "id": "51HoJA_1md6f",
        "colab_type": "text"
      },
      "source": [
        "2\n",
        "3 1 2\n",
        "6 1 1"
      ]
    },
    {
      "cell_type": "code",
      "metadata": {
        "id": "psBT5ljpy1ee",
        "colab_type": "code",
        "colab": {
          "base_uri": "https://localhost:8080/",
          "height": 85
        },
        "outputId": "593aa527-3566-4a09-e942-218e28176e89"
      },
      "source": [
        "n = int(input())\n",
        "for i in range(n):\n",
        "  t,x,y=map(int,input().split())\n",
        "  if(x+y) > t or (x+y+t) % 2:\n",
        "    print(\"No\")\n",
        "    exit()\n",
        "print(\"Yes\")"
      ],
      "execution_count": 1,
      "outputs": [
        {
          "output_type": "stream",
          "text": [
            "2\n",
            "3 1 2\n",
            "6 1 1\n",
            "Yes\n"
          ],
          "name": "stdout"
        }
      ]
    },
    {
      "cell_type": "code",
      "metadata": {
        "id": "Ex9DAUfjdxBW",
        "colab_type": "code",
        "colab": {}
      },
      "source": [
        ""
      ],
      "execution_count": 0,
      "outputs": []
    }
  ]
}