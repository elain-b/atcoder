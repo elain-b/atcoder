{
  "nbformat": 4,
  "nbformat_minor": 0,
  "metadata": {
    "colab": {
      "name": "abc086_C_Traveling.ipynb",
      "provenance": [],
      "include_colab_link": true
    },
    "kernelspec": {
      "name": "python3",
      "display_name": "Python 3"
    }
  },
  "cells": [
    {
      "cell_type": "markdown",
      "metadata": {
        "id": "view-in-github",
        "colab_type": "text"
      },
      "source": [
        "<a href=\"https://colab.research.google.com/github/elain-b/atcoder/blob/master/abc086_C_Traveling.ipynb\" target=\"_parent\"><img src=\"https://colab.research.google.com/assets/colab-badge.svg\" alt=\"Open In Colab\"/></a>"
      ]
    },
    {
      "cell_type": "code",
      "metadata": {
        "id": "iM_oQavMjkV6",
        "colab_type": "code",
        "colab": {
          "base_uri": "https://localhost:8080/",
          "height": 85
        },
        "outputId": "96a57ddf-e2ba-4c6d-f827-3e1bb56b8426"
      },
      "source": [
        "N = int(input())\n",
        "a = 0\n",
        "for i in range(N):\n",
        "  a = list(map(int, input().split()))\n",
        "  if a[0] < sum(a) - a[0]:\n",
        "    print(\"No\")\n",
        "    exit()\n",
        "  if (sum(a) - a[0] - a[0])%2 != 0:\n",
        "    print(\"No\")\n",
        "    exit()\n",
        "print(\"Yes\")"
      ],
      "execution_count": 4,
      "outputs": [
        {
          "output_type": "stream",
          "text": [
            "2\n",
            "3 1 2\n",
            "6 1 1\n",
            "Yes\n"
          ],
          "name": "stdout"
        }
      ]
    },
    {
      "cell_type": "markdown",
      "metadata": {
        "id": "51HoJA_1md6f",
        "colab_type": "text"
      },
      "source": [
        "2\n",
        "3 1 2\n",
        "6 1 1"
      ]
    }
  ]
}