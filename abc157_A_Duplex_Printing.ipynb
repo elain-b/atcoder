{
  "nbformat": 4,
  "nbformat_minor": 0,
  "metadata": {
    "colab": {
      "name": "abc157_A - Duplex Printing.ipynb",
      "provenance": [],
      "collapsed_sections": [],
      "authorship_tag": "ABX9TyMIo2ZpUdHo8DLBdKUAkfqj",
      "include_colab_link": true
    },
    "kernelspec": {
      "name": "python3",
      "display_name": "Python 3"
    }
  },
  "cells": [
    {
      "cell_type": "markdown",
      "metadata": {
        "id": "view-in-github",
        "colab_type": "text"
      },
      "source": [
        "<a href=\"https://colab.research.google.com/github/elain-b/atcoder/blob/master/abc157_A_Duplex_Printing.ipynb\" target=\"_parent\"><img src=\"https://colab.research.google.com/assets/colab-badge.svg\" alt=\"Open In Colab\"/></a>"
      ]
    },
    {
      "cell_type": "code",
      "metadata": {
        "id": "ceFSiUieMHsO",
        "colab_type": "code",
        "colab": {}
      },
      "source": [
        "n=int(input())\n",
        "if n%2!=0:\n",
        "    print((n//2)+(n%2))\n",
        "elif n%2==0:\n",
        "    print(n//2)"
      ],
      "execution_count": 0,
      "outputs": []
    }
  ]
}