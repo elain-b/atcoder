{
  "nbformat": 4,
  "nbformat_minor": 0,
  "metadata": {
    "colab": {
      "name": "past201912-open_E - SNS のログ.ipynb",
      "provenance": [],
      "collapsed_sections": [],
      "authorship_tag": "ABX9TyPm4HwyFCGFJYE/XWJ0pUDJ",
      "include_colab_link": true
    },
    "kernelspec": {
      "name": "python3",
      "display_name": "Python 3"
    }
  },
  "cells": [
    {
      "cell_type": "markdown",
      "metadata": {
        "id": "view-in-github",
        "colab_type": "text"
      },
      "source": [
        "<a href=\"https://colab.research.google.com/github/elain-b/atcoder/blob/master/past201912_open_E_SNS_%E3%81%AE%E3%83%AD%E3%82%B0.ipynb\" target=\"_parent\"><img src=\"https://colab.research.google.com/assets/colab-badge.svg\" alt=\"Open In Colab\"/></a>"
      ]
    },
    {
      "cell_type": "code",
      "metadata": {
        "id": "M_7grv2LmMQP",
        "colab_type": "code",
        "colab": {}
      },
      "source": [
        "N,Q=list(map(int,input().split()))\n",
        "f=[['N' for i in range(N)] for j in range(N)]\n",
        "def my_index_multi(l, x):\n",
        "    return [i for i, _x in enumerate(l) if _x == x]\n",
        "for i in range(Q):\n",
        "    S=list(map(int,input().split()))\n",
        "    if S[0]==1:\n",
        "        f[S[1]-1][S[2]-1]='Y'\n",
        "    elif S[0]==3:\n",
        "        ff=my_index_multi(f[S[1]-1], 'Y')\n",
        "        for j in ff:\n",
        "            fff=my_index_multi(f[j], 'Y')\n",
        "            for k in fff:\n",
        "                f[S[1]-1][k]='Y'\n",
        "    elif S[0]==2:\n",
        "        for j in range(N):\n",
        "            if f[j][S[1]-1]=='Y':\n",
        "                f[S[1]-1][j]='Y'\n",
        "for i in range(N):\n",
        "    print(''.join(f[i]))"
      ],
      "execution_count": 0,
      "outputs": []
    },
    {
      "cell_type": "code",
      "metadata": {
        "id": "Ykj-15Pq7jvt",
        "colab_type": "code",
        "colab": {}
      },
      "source": [
        "N, Q = map(int, input().split())\n",
        "S = [list(map(int, input().split())) for _ in range(Q)]\n",
        " \n",
        "lst = [[] for _ in range(N)]\n",
        " \n",
        "for ss in S:\n",
        "    if ss[0]==1:\n",
        "        lst[ss[1]-1].append(ss[2]-1)\n",
        "    elif ss[0]==2:\n",
        "        for i, lst1 in enumerate(lst):\n",
        "            if ss[1]-1 in lst1:\n",
        "                lst[ss[1]-1].append(i)\n",
        "    else:\n",
        "        temp = set()\n",
        "        for i in lst[ss[1]-1]:\n",
        "            temp = temp | set(lst[i])\n",
        "        temp = temp - {ss[1]-1}\n",
        "        lst[ss[1]-1] += list(temp)\n",
        "                   \n",
        "for lst2 in lst:\n",
        "    sss = ['N']*N\n",
        "    for k in lst2:\n",
        "        sss[k] = 'Y' \n",
        "    print(*sss, sep='')\n"
      ],
      "execution_count": 0,
      "outputs": []
    }
  ]
}