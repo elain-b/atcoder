{
  "nbformat": 4,
  "nbformat_minor": 0,
  "metadata": {
    "colab": {
      "name": "abc043_A - キャンディーとN人の子供イージー.ipynb",
      "provenance": [],
      "collapsed_sections": [],
      "authorship_tag": "ABX9TyMgzkktvTS64Kxz2/1Zwj0g",
      "include_colab_link": true
    },
    "kernelspec": {
      "name": "python3",
      "display_name": "Python 3"
    }
  },
  "cells": [
    {
      "cell_type": "markdown",
      "metadata": {
        "id": "view-in-github",
        "colab_type": "text"
      },
      "source": [
        "<a href=\"https://colab.research.google.com/github/elain-b/atcoder/blob/master/abc043_A_%E3%82%AD%E3%83%A3%E3%83%B3%E3%83%87%E3%82%A3%E3%83%BC%E3%81%A8N%E4%BA%BA%E3%81%AE%E5%AD%90%E4%BE%9B%E3%82%A4%E3%83%BC%E3%82%B8%E3%83%BC.ipynb\" target=\"_parent\"><img src=\"https://colab.research.google.com/assets/colab-badge.svg\" alt=\"Open In Colab\"/></a>"
      ]
    },
    {
      "cell_type": "code",
      "metadata": {
        "id": "ll6Vyh5P3VG9",
        "colab_type": "code",
        "colab": {}
      },
      "source": [
        "j=0\n",
        "for i in range(1,(int(input()))+1):\n",
        "    j=j+i\n",
        "print(j)"
      ],
      "execution_count": 0,
      "outputs": []
    }
  ]
}