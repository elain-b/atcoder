{
  "nbformat": 4,
  "nbformat_minor": 0,
  "metadata": {
    "colab": {
      "name": "abc081_A_Placing_Marbles.ipynb",
      "provenance": [],
      "include_colab_link": true
    },
    "kernelspec": {
      "name": "python3",
      "display_name": "Python 3"
    }
  },
  "cells": [
    {
      "cell_type": "markdown",
      "metadata": {
        "id": "view-in-github",
        "colab_type": "text"
      },
      "source": [
        "<a href=\"https://colab.research.google.com/github/elain-b/atcoder/blob/master/abc081_A_Placing_Marbles.ipynb\" target=\"_parent\"><img src=\"https://colab.research.google.com/assets/colab-badge.svg\" alt=\"Open In Colab\"/></a>"
      ]
    },
    {
      "cell_type": "code",
      "metadata": {
        "id": "lTYsJ4Qc7LUw",
        "colab_type": "code",
        "colab": {
          "base_uri": "https://localhost:8080/",
          "height": 51
        },
        "outputId": "531a0ab5-3dbd-4129-bf5f-45acda30c134"
      },
      "source": [
        "x = int(input())\n",
        " \n",
        "a = int(x / 100)\n",
        "b = int((x / 10) % 10)\n",
        "c = int(x % 10)\n",
        "cnt = 0\n",
        " \n",
        "if a == 1:\n",
        "  cnt += 1\n",
        "if b == 1:\n",
        "  cnt += 1\n",
        "if c == 1:\n",
        "  cnt += 1\n",
        "print(cnt)"
      ],
      "execution_count": 1,
      "outputs": [
        {
          "output_type": "stream",
          "text": [
            "101\n",
            "2\n"
          ],
          "name": "stdout"
        }
      ]
    }
  ]
}