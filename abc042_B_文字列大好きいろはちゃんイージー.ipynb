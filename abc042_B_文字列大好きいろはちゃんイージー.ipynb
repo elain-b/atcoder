{
  "nbformat": 4,
  "nbformat_minor": 0,
  "metadata": {
    "colab": {
      "name": "abc042_B - 文字列大好きいろはちゃんイージー.ipynb",
      "provenance": [],
      "collapsed_sections": [],
      "authorship_tag": "ABX9TyMJWum6+1wro4FKGYxhOrLW",
      "include_colab_link": true
    },
    "kernelspec": {
      "name": "python3",
      "display_name": "Python 3"
    }
  },
  "cells": [
    {
      "cell_type": "markdown",
      "metadata": {
        "id": "view-in-github",
        "colab_type": "text"
      },
      "source": [
        "<a href=\"https://colab.research.google.com/github/elain-b/atcoder/blob/master/abc042_B_%E6%96%87%E5%AD%97%E5%88%97%E5%A4%A7%E5%A5%BD%E3%81%8D%E3%81%84%E3%82%8D%E3%81%AF%E3%81%A1%E3%82%83%E3%82%93%E3%82%A4%E3%83%BC%E3%82%B8%E3%83%BC.ipynb\" target=\"_parent\"><img src=\"https://colab.research.google.com/assets/colab-badge.svg\" alt=\"Open In Colab\"/></a>"
      ]
    },
    {
      "cell_type": "code",
      "metadata": {
        "id": "QrJ8Hamh9biO",
        "colab_type": "code",
        "colab": {}
      },
      "source": [
        "N,L=list(map(int,input().split()))\n",
        "S = [input() for i in range(N)]\n",
        "print(''.join(sorted(S)))"
      ],
      "execution_count": 0,
      "outputs": []
    }
  ]
}