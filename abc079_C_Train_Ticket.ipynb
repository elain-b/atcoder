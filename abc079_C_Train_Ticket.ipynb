{
  "nbformat": 4,
  "nbformat_minor": 0,
  "metadata": {
    "colab": {
      "name": "abc079_C_Train_Ticket.ipynb",
      "provenance": [],
      "include_colab_link": true
    },
    "kernelspec": {
      "name": "python3",
      "display_name": "Python 3"
    }
  },
  "cells": [
    {
      "cell_type": "markdown",
      "metadata": {
        "id": "view-in-github",
        "colab_type": "text"
      },
      "source": [
        "<a href=\"https://colab.research.google.com/github/elain-b/atcoder/blob/master/abc079_C_Train_Ticket.ipynb\" target=\"_parent\"><img src=\"https://colab.research.google.com/assets/colab-badge.svg\" alt=\"Open In Colab\"/></a>"
      ]
    },
    {
      "cell_type": "code",
      "metadata": {
        "id": "JiDuDZRl-Yoh",
        "colab_type": "code",
        "colab": {
          "base_uri": "https://localhost:8080/",
          "height": 51
        },
        "outputId": "c388f291-90c0-409e-bf4b-eb0f159f5dd7"
      },
      "source": [
        "def dfs(i,e,s):\n",
        "    if i==n-1:\n",
        "        if s==7:\n",
        "            print(e+'=7')\n",
        "            exit()\n",
        "    else:\n",
        "        dfs(i+1,e+'+'+a[i+1],s+int(a[i+1]))\n",
        "        dfs(i+1,e+'-'+a[i+1],s-int(a[i+1]))\n",
        "a=input()\n",
        "n=len(a)\n",
        "dfs(0,a[0],int(a[0]))"
      ],
      "execution_count": 1,
      "outputs": [
        {
          "output_type": "stream",
          "text": [
            "1222\n",
            "1+2+2+2=7\n"
          ],
          "name": "stdout"
        }
      ]
    },
    {
      "cell_type": "code",
      "metadata": {
        "id": "YrzpWdZX-kDV",
        "colab_type": "code",
        "colab": {
          "base_uri": "https://localhost:8080/",
          "height": 51
        },
        "outputId": "d67b0fa8-da3e-4bc6-e55d-9fdb840fab13"
      },
      "source": [
        "A,B,C,D = list(map(int,list(input())))\n",
        "def plus(x):\n",
        "    if x == 0:\n",
        "        return '+'\n",
        "    else:\n",
        "        return '-'\n",
        "for i in range(2):\n",
        "    for j in range(2):\n",
        "        for k in range(2):\n",
        "            ans = A+(1-2*i)*B+(1-2*j)*C+(1-2*k)*D\n",
        "            if ans == 7:\n",
        "                print(str(A)+plus(i)+str(B)+plus(j)+str(C)+plus(k)+str(D)+'=7')\n",
        "                break\n",
        "        else:\n",
        "            continue\n",
        "        break\n",
        "    else:\n",
        "        continue\n",
        "    break\n"
      ],
      "execution_count": 2,
      "outputs": [
        {
          "output_type": "stream",
          "text": [
            "1222\n",
            "1+2+2+2=7\n"
          ],
          "name": "stdout"
        }
      ]
    },
    {
      "cell_type": "code",
      "metadata": {
        "id": "8FH3tWUnAxcW",
        "colab_type": "code",
        "colab": {}
      },
      "source": [
        ""
      ],
      "execution_count": 0,
      "outputs": []
    }
  ]
}