{
  "nbformat": 4,
  "nbformat_minor": 0,
  "metadata": {
    "colab": {
      "name": "abc049-C - 白昼夢 / Daydream.ipynb",
      "provenance": [],
      "include_colab_link": true
    },
    "kernelspec": {
      "name": "python3",
      "display_name": "Python 3"
    }
  },
  "cells": [
    {
      "cell_type": "markdown",
      "metadata": {
        "id": "view-in-github",
        "colab_type": "text"
      },
      "source": [
        "<a href=\"https://colab.research.google.com/github/elain-b/atcoder/blob/master/abc049_C_%E7%99%BD%E6%98%BC%E5%A4%A2_Daydream.ipynb\" target=\"_parent\"><img src=\"https://colab.research.google.com/assets/colab-badge.svg\" alt=\"Open In Colab\"/></a>"
      ]
    },
    {
      "cell_type": "code",
      "metadata": {
        "id": "9Acz7nM-Zq2i",
        "colab_type": "code",
        "colab": {
          "base_uri": "https://localhost:8080/",
          "height": 51
        },
        "outputId": "3d919e53-edc1-4ce8-edc3-d5a1fa7ceb52"
      },
      "source": [
        "dreamer = \"dreamer\"\n",
        "eraser = \"eraser\"\n",
        "dream = \"dream\"\n",
        "erase = \"erase\"\n",
        "\n",
        "\n",
        "def main():\n",
        "    S = input()\n",
        "\n",
        "    while len(S):\n",
        "        lens = len(S)\n",
        "        if S[-len(dreamer) :] == dreamer:\n",
        "            S = S[: -len(dreamer)]\n",
        "        if S[-len(eraser) :] == eraser:\n",
        "            S = S[: -len(eraser)]\n",
        "        if S[-len(dream) :] == dream:\n",
        "            S = S[: -len(dream)]\n",
        "        if S[-len(erase) :] == erase:\n",
        "            S = S[: -len(erase)]\n",
        "        if lens == len(S):\n",
        "            print(\"NO\")\n",
        "            return\n",
        "    print(\"YES\")\n",
        "    return\n",
        "\n",
        "\n",
        "main()"
      ],
      "execution_count": 5,
      "outputs": [
        {
          "output_type": "stream",
          "text": [
            "erasedream\n",
            "YES\n"
          ],
          "name": "stdout"
        }
      ]
    }
  ]
}