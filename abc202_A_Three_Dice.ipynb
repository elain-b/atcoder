{
  "nbformat": 4,
  "nbformat_minor": 0,
  "metadata": {
    "colab": {
      "name": "abc202_A - Three Dice.ipynb",
      "provenance": [],
      "authorship_tag": "ABX9TyPcTO3D1Ek1OtoaWViRp952",
      "include_colab_link": true
    },
    "kernelspec": {
      "name": "python3",
      "display_name": "Python 3"
    },
    "language_info": {
      "name": "python"
    }
  },
  "cells": [
    {
      "cell_type": "markdown",
      "metadata": {
        "id": "view-in-github",
        "colab_type": "text"
      },
      "source": [
        "<a href=\"https://colab.research.google.com/github/elain-b/atcoder/blob/master/abc202_A_Three_Dice.ipynb\" target=\"_parent\"><img src=\"https://colab.research.google.com/assets/colab-badge.svg\" alt=\"Open In Colab\"/></a>"
      ]
    },
    {
      "cell_type": "code",
      "metadata": {
        "id": "Bg9erHODWDGQ"
      },
      "source": [
        "a,b,c=map(int,input().split())\n",
        "print((7-a)+(7-b)+(7-c))"
      ],
      "execution_count": null,
      "outputs": []
    }
  ]
}