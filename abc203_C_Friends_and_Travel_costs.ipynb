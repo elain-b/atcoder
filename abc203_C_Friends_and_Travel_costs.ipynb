{
  "nbformat": 4,
  "nbformat_minor": 0,
  "metadata": {
    "colab": {
      "name": "abc203_C - Friends and Travel costs.ipynb",
      "provenance": [],
      "authorship_tag": "ABX9TyNAB5OX8soNI+LG8n2z98no",
      "include_colab_link": true
    },
    "kernelspec": {
      "name": "python3",
      "display_name": "Python 3"
    },
    "language_info": {
      "name": "python"
    }
  },
  "cells": [
    {
      "cell_type": "markdown",
      "metadata": {
        "id": "view-in-github",
        "colab_type": "text"
      },
      "source": [
        "<a href=\"https://colab.research.google.com/github/elain-b/atcoder/blob/master/abc203_C_Friends_and_Travel_costs.ipynb\" target=\"_parent\"><img src=\"https://colab.research.google.com/assets/colab-badge.svg\" alt=\"Open In Colab\"/></a>"
      ]
    },
    {
      "cell_type": "code",
      "metadata": {
        "id": "NyAyIF2Bkz6Q"
      },
      "source": [
        "N,K=map(int,input().split())\n",
        "mura=0\n",
        "a,b=[],[]\n",
        "for i in range(N):\n",
        "    aa,bb=map(int,input().split())\n",
        "    a.append(aa)\n",
        "    b.append(bb)\n",
        "print(a)\n",
        "print(b)\n",
        "for i in range(10**100):\n",
        "    K-=1\n",
        "    if K==0:\n",
        "        mura=i+1\n",
        "        break\n",
        "    for n in range(N):\n",
        "        if a[n]==i+1:\n",
        "            K+=b[n]\n",
        "print(mura)"
      ],
      "execution_count": null,
      "outputs": []
    }
  ]
}