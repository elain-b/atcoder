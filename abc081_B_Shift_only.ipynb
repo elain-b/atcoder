{
  "nbformat": 4,
  "nbformat_minor": 0,
  "metadata": {
    "colab": {
      "name": "abc081_B_Shift_only.ipynb",
      "provenance": [],
      "include_colab_link": true
    },
    "kernelspec": {
      "name": "python3",
      "display_name": "Python 3"
    }
  },
  "cells": [
    {
      "cell_type": "markdown",
      "metadata": {
        "id": "view-in-github",
        "colab_type": "text"
      },
      "source": [
        "<a href=\"https://colab.research.google.com/github/elain-b/atcoder/blob/master/abc081_B_Shift_only.ipynb\" target=\"_parent\"><img src=\"https://colab.research.google.com/assets/colab-badge.svg\" alt=\"Open In Colab\"/></a>"
      ]
    },
    {
      "cell_type": "code",
      "metadata": {
        "id": "R5GnoNgM6xuY",
        "colab_type": "code",
        "colab": {}
      },
      "source": [
        "n = int(input())\n",
        "a = list(map(int,input().split()))\n",
        "\n",
        "count = 0\n",
        "flag = 0\n",
        "\n",
        "while(1):\n",
        "    for i in range(n):\n",
        "        if a[i] %2 == 1:\n",
        "            flag = 1\n",
        "        else:\n",
        "            temp = a[i]/2\n",
        "            a[i] = temp;\n",
        "    if flag == 1:\n",
        "        break\n",
        "    else:\n",
        "        count += 1\n",
        "print(count)"
      ],
      "execution_count": 0,
      "outputs": []
    },
    {
      "cell_type": "code",
      "metadata": {
        "id": "wqJDlj103pVT",
        "colab_type": "code",
        "colab": {
          "base_uri": "https://localhost:8080/",
          "height": 68
        },
        "outputId": "1014a388-0e5b-4418-b3d2-75da6a9a6e4a"
      },
      "source": [
        "import math\n",
        "n = input()\n",
        "a = list(map(int,input().split()))\n",
        "ans = float(\"inf\")\n",
        "for i in a:\n",
        "  ans = min(ans, len(bin(i)) - bin(i).rfind(\"1\") - 1)\n",
        "print(round(ans))"
      ],
      "execution_count": 2,
      "outputs": [
        {
          "output_type": "stream",
          "text": [
            "3\n",
            "8 12 40\n",
            "2\n"
          ],
          "name": "stdout"
        }
      ]
    },
    {
      "cell_type": "code",
      "metadata": {
        "id": "1BPeDK324BiR",
        "colab_type": "code",
        "colab": {}
      },
      "source": [
        ""
      ],
      "execution_count": 0,
      "outputs": []
    }
  ]
}