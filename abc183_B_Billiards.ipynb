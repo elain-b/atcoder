{
  "nbformat": 4,
  "nbformat_minor": 0,
  "metadata": {
    "colab": {
      "name": "abc183_B - Billiards.ipynb",
      "provenance": [],
      "authorship_tag": "ABX9TyPk7Eb6mHqtLC4f18spm8Fk",
      "include_colab_link": true
    },
    "kernelspec": {
      "name": "python3",
      "display_name": "Python 3"
    }
  },
  "cells": [
    {
      "cell_type": "markdown",
      "metadata": {
        "id": "view-in-github",
        "colab_type": "text"
      },
      "source": [
        "<a href=\"https://colab.research.google.com/github/elain-b/atcoder/blob/master/abc183_B_Billiards.ipynb\" target=\"_parent\"><img src=\"https://colab.research.google.com/assets/colab-badge.svg\" alt=\"Open In Colab\"/></a>"
      ]
    },
    {
      "cell_type": "code",
      "metadata": {
        "id": "YdNdE-HAM8Hw"
      },
      "source": [
        "sx,sy,gx,gy=list(map(int,input().split()))\n",
        "yy=gy+sy\n",
        "print('{:.10f}'.format(sx+(gx-sx)/yy*sy))"
      ],
      "execution_count": null,
      "outputs": []
    }
  ]
}