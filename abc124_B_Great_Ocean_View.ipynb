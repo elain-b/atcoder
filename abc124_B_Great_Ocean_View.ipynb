{
  "nbformat": 4,
  "nbformat_minor": 0,
  "metadata": {
    "colab": {
      "name": "abc124_B - Great Ocean View.ipynb",
      "provenance": [],
      "collapsed_sections": [],
      "authorship_tag": "ABX9TyMydGb75rmLMPwRY7mzX/Hy",
      "include_colab_link": true
    },
    "kernelspec": {
      "name": "python3",
      "display_name": "Python 3"
    }
  },
  "cells": [
    {
      "cell_type": "markdown",
      "metadata": {
        "id": "view-in-github",
        "colab_type": "text"
      },
      "source": [
        "<a href=\"https://colab.research.google.com/github/elain-b/atcoder/blob/master/abc124_B_Great_Ocean_View.ipynb\" target=\"_parent\"><img src=\"https://colab.research.google.com/assets/colab-badge.svg\" alt=\"Open In Colab\"/></a>"
      ]
    },
    {
      "cell_type": "code",
      "metadata": {
        "id": "wzncdA1TFdAD",
        "colab_type": "code",
        "colab": {}
      },
      "source": [
        "n=int(input())\n",
        "h=[int(e) for e in input().split()]\n",
        "ans=1\n",
        "for i in range(1,n):\n",
        "    if max(h[:i]) <= h[i]:\n",
        "        ans += 1\n",
        "print(ans)"
      ],
      "execution_count": 0,
      "outputs": []
    },
    {
      "cell_type": "code",
      "metadata": {
        "id": "jrauYB1ZFlv2",
        "colab_type": "code",
        "colab": {}
      },
      "source": [
        "N = int(input())\n",
        "*H, = map(int, input().split())\n",
        "ans = 1\n",
        "for i in range(1, N):\n",
        "    if max(H[:i]) <= H[i]:\n",
        "        ans += 1\n",
        "print(ans)\n"
      ],
      "execution_count": 0,
      "outputs": []
    }
  ]
}