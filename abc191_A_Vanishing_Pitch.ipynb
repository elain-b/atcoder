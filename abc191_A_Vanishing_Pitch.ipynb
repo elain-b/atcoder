{
  "nbformat": 4,
  "nbformat_minor": 0,
  "metadata": {
    "colab": {
      "name": "abc191_A - Vanishing Pitch.ipynb",
      "provenance": [],
      "collapsed_sections": [],
      "authorship_tag": "ABX9TyPp2k5Vfnh1Jg6Nm68jZ7WM",
      "include_colab_link": true
    },
    "kernelspec": {
      "name": "python3",
      "display_name": "Python 3"
    }
  },
  "cells": [
    {
      "cell_type": "markdown",
      "metadata": {
        "id": "view-in-github",
        "colab_type": "text"
      },
      "source": [
        "<a href=\"https://colab.research.google.com/github/elain-b/atcoder/blob/master/abc191_A_Vanishing_Pitch.ipynb\" target=\"_parent\"><img src=\"https://colab.research.google.com/assets/colab-badge.svg\" alt=\"Open In Colab\"/></a>"
      ]
    },
    {
      "cell_type": "code",
      "metadata": {
        "id": "rdgit3NIPnXa"
      },
      "source": [
        "v,t,s,d=map(int,input().split(\" \"))\n",
        "if t <= d/v <= s:\n",
        "    print('No')\n",
        "else:\n",
        "    print('Yes')"
      ],
      "execution_count": null,
      "outputs": []
    }
  ]
}