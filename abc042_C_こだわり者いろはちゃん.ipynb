{
  "nbformat": 4,
  "nbformat_minor": 0,
  "metadata": {
    "colab": {
      "name": "abc042_C - こだわり者いろはちゃん.ipynb",
      "provenance": [],
      "collapsed_sections": [],
      "authorship_tag": "ABX9TyPUGImTFtZ74QVMtRcCCv+t",
      "include_colab_link": true
    },
    "kernelspec": {
      "name": "python3",
      "display_name": "Python 3"
    }
  },
  "cells": [
    {
      "cell_type": "markdown",
      "metadata": {
        "id": "view-in-github",
        "colab_type": "text"
      },
      "source": [
        "<a href=\"https://colab.research.google.com/github/elain-b/atcoder/blob/master/abc042_C_%E3%81%93%E3%81%A0%E3%82%8F%E3%82%8A%E8%80%85%E3%81%84%E3%82%8D%E3%81%AF%E3%81%A1%E3%82%83%E3%82%93.ipynb\" target=\"_parent\"><img src=\"https://colab.research.google.com/assets/colab-badge.svg\" alt=\"Open In Colab\"/></a>"
      ]
    },
    {
      "cell_type": "code",
      "metadata": {
        "id": "SdK9c209SVB_",
        "colab_type": "code",
        "colab": {}
      },
      "source": [
        "N, K = input().split()\n",
        "D = set(map(int, input().split()))\n",
        "x={i for i in range(10)}\n",
        "y=x-D\n",
        "z=''\n",
        "for i in range(len(N)):\n",
        "    for j in y:\n",
        "        if j > int(N[i]):\n",
        "            z=z+str(j)\n",
        "            print(z+str(min(list(y)))*(len(N)-1-i))\n",
        "            exit()\n",
        "        elif j == int(N[i]):\n",
        "            z=z+str(j)\n",
        "            if i==len(N)-1 :\n",
        "                print(z)\n",
        "                exit()\n",
        "            break\n",
        "    if j < int(N[i]):\n",
        "        break\n",
        "print(str(min(y-{0}))+str(min(y))*len(N))"
      ],
      "execution_count": 0,
      "outputs": []
    }
  ]
}