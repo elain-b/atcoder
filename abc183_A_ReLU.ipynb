{
  "nbformat": 4,
  "nbformat_minor": 0,
  "metadata": {
    "colab": {
      "name": "abc183_A - ReLU.ipynb",
      "provenance": [],
      "authorship_tag": "ABX9TyPIeoaNlSYadxvd8MXkyq6Z",
      "include_colab_link": true
    },
    "kernelspec": {
      "name": "python3",
      "display_name": "Python 3"
    }
  },
  "cells": [
    {
      "cell_type": "markdown",
      "metadata": {
        "id": "view-in-github",
        "colab_type": "text"
      },
      "source": [
        "<a href=\"https://colab.research.google.com/github/elain-b/atcoder/blob/master/abc183_A_ReLU.ipynb\" target=\"_parent\"><img src=\"https://colab.research.google.com/assets/colab-badge.svg\" alt=\"Open In Colab\"/></a>"
      ]
    },
    {
      "cell_type": "code",
      "metadata": {
        "id": "ldquNlpb238x"
      },
      "source": [
        "x=int(input())\n",
        "if x>=0:\n",
        "    print(x)\n",
        "else:\n",
        "    print(0)"
      ],
      "execution_count": null,
      "outputs": []
    }
  ]
}