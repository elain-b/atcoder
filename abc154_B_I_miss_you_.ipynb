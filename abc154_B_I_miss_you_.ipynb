{
  "nbformat": 4,
  "nbformat_minor": 0,
  "metadata": {
    "colab": {
      "name": "abc154_B - I miss you....ipynb",
      "provenance": [],
      "authorship_tag": "ABX9TyORmYXT/rrZ5AmRip570cNS",
      "include_colab_link": true
    },
    "kernelspec": {
      "name": "python3",
      "display_name": "Python 3"
    }
  },
  "cells": [
    {
      "cell_type": "markdown",
      "metadata": {
        "id": "view-in-github",
        "colab_type": "text"
      },
      "source": [
        "<a href=\"https://colab.research.google.com/github/elain-b/atcoder/blob/master/abc154_B_I_miss_you_.ipynb\" target=\"_parent\"><img src=\"https://colab.research.google.com/assets/colab-badge.svg\" alt=\"Open In Colab\"/></a>"
      ]
    },
    {
      "cell_type": "code",
      "metadata": {
        "id": "r3mlF1Iw8ny_",
        "colab_type": "code",
        "colab": {}
      },
      "source": [
        "s=input()\n",
        "print('x'*len(s))"
      ],
      "execution_count": 0,
      "outputs": []
    }
  ]
}