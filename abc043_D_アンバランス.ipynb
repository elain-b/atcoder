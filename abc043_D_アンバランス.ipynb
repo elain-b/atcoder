{
  "nbformat": 4,
  "nbformat_minor": 0,
  "metadata": {
    "colab": {
      "name": "abc043_D - アンバランス.ipynb",
      "provenance": [],
      "collapsed_sections": [],
      "authorship_tag": "ABX9TyMVGhMj/6pIkG36JXA4WCxw",
      "include_colab_link": true
    },
    "kernelspec": {
      "name": "python3",
      "display_name": "Python 3"
    }
  },
  "cells": [
    {
      "cell_type": "markdown",
      "metadata": {
        "id": "view-in-github",
        "colab_type": "text"
      },
      "source": [
        "<a href=\"https://colab.research.google.com/github/elain-b/atcoder/blob/master/abc043_D_%E3%82%A2%E3%83%B3%E3%83%90%E3%83%A9%E3%83%B3%E3%82%B9.ipynb\" target=\"_parent\"><img src=\"https://colab.research.google.com/assets/colab-badge.svg\" alt=\"Open In Colab\"/></a>"
      ]
    },
    {
      "cell_type": "code",
      "metadata": {
        "id": "InmbiVCjJTQ0",
        "colab_type": "code",
        "colab": {}
      },
      "source": [
        "# https://atcoder.jp/contests/abc043/tasks/arc059_b"
      ],
      "execution_count": 0,
      "outputs": []
    },
    {
      "cell_type": "code",
      "metadata": {
        "id": "y0jOxyD2OrwL",
        "colab_type": "code",
        "colab": {}
      },
      "source": [
        "# \\(._. \\)"
      ],
      "execution_count": 0,
      "outputs": []
    },
    {
      "cell_type": "code",
      "metadata": {
        "id": "OqGxVjIvJMxm",
        "colab_type": "code",
        "colab": {}
      },
      "source": [
        "s=input()\n",
        "b=[]\n",
        "for i in range(len(s)):\n",
        "    a=s.count(str(s[i]))\n",
        "    if a>1:\n",
        "        b.append(a)\n",
        "        b=list(set(b))\n",
        "if len(b)>1:\n",
        "    print(b[0],sum(b))\n",
        "else:\n",
        "    print(-1,-1)"
      ],
      "execution_count": 0,
      "outputs": []
    }
  ]
}