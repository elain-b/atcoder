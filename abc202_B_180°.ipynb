{
  "nbformat": 4,
  "nbformat_minor": 0,
  "metadata": {
    "colab": {
      "name": "abc202_B - 180°.ipynb",
      "provenance": [],
      "authorship_tag": "ABX9TyPzOg9golDiQzUPkYzD/SeG",
      "include_colab_link": true
    },
    "kernelspec": {
      "name": "python3",
      "display_name": "Python 3"
    },
    "language_info": {
      "name": "python"
    }
  },
  "cells": [
    {
      "cell_type": "markdown",
      "metadata": {
        "id": "view-in-github",
        "colab_type": "text"
      },
      "source": [
        "<a href=\"https://colab.research.google.com/github/elain-b/atcoder/blob/master/abc202_B_180%C2%B0.ipynb\" target=\"_parent\"><img src=\"https://colab.research.google.com/assets/colab-badge.svg\" alt=\"Open In Colab\"/></a>"
      ]
    },
    {
      "cell_type": "code",
      "metadata": {
        "id": "0OlMvV_ta56X"
      },
      "source": [
        "s=list(input())\n",
        "s.reverse()\n",
        "for i in range(len(s)):\n",
        "    if s[i]=='6':\n",
        "        s[i]='9'\n",
        "    elif s[i]=='9':\n",
        "        s[i]='6'\n",
        "    else:\n",
        "        continue\n",
        "s=''.join(map(str,s))\n",
        "print(s)"
      ],
      "execution_count": null,
      "outputs": []
    }
  ]
}