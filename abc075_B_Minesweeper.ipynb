{
  "nbformat": 4,
  "nbformat_minor": 0,
  "metadata": {
    "colab": {
      "name": "abc075_B_Minesweeper.ipynb",
      "provenance": [],
      "include_colab_link": true
    },
    "kernelspec": {
      "name": "python3",
      "display_name": "Python 3"
    }
  },
  "cells": [
    {
      "cell_type": "markdown",
      "metadata": {
        "id": "view-in-github",
        "colab_type": "text"
      },
      "source": [
        "<a href=\"https://colab.research.google.com/github/elain-b/atcoder/blob/master/abc075_B_Minesweeper.ipynb\" target=\"_parent\"><img src=\"https://colab.research.google.com/assets/colab-badge.svg\" alt=\"Open In Colab\"/></a>"
      ]
    },
    {
      "cell_type": "code",
      "metadata": {
        "id": "sqNSqpI1Nk0-",
        "colab_type": "code",
        "colab": {
          "base_uri": "https://localhost:8080/",
          "height": 136
        },
        "outputId": "d17bf4be-616b-4f0f-860a-8ae8ae2450a7"
      },
      "source": [
        "H, W = map(int,input().split())\n",
        "s = [input() for i in range(H)]\n",
        "for i in range(H):\n",
        "    l = \"\"\n",
        "    for j in range(W):\n",
        "        if s[i][j] == \"#\":\n",
        "            l += \"#\"\n",
        "        else:\n",
        "            l += str(sum([t[max(0,j-1):min(W,j+2)].count(\"#\") for t in s[max(0,i-1):min(H,i+2)]]))\n",
        "    print(l)"
      ],
      "execution_count": 1,
      "outputs": [
        {
          "output_type": "stream",
          "text": [
            "3 5\n",
            ".....\n",
            ".#.#.\n",
            ".....\n",
            "11211\n",
            "1#2#1\n",
            "11211\n"
          ],
          "name": "stdout"
        }
      ]
    }
  ]
}