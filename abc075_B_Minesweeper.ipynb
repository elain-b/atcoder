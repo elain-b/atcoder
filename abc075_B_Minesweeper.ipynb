{
  "nbformat": 4,
  "nbformat_minor": 0,
  "metadata": {
    "colab": {
      "name": "abc075_B_Minesweeper.ipynb",
      "provenance": [],
      "include_colab_link": true
    },
    "kernelspec": {
      "name": "python3",
      "display_name": "Python 3"
    }
  },
  "cells": [
    {
      "cell_type": "markdown",
      "metadata": {
        "id": "view-in-github",
        "colab_type": "text"
      },
      "source": [
        "<a href=\"https://colab.research.google.com/github/elain-b/atcoder/blob/master/abc075_B_Minesweeper.ipynb\" target=\"_parent\"><img src=\"https://colab.research.google.com/assets/colab-badge.svg\" alt=\"Open In Colab\"/></a>"
      ]
    },
    {
      "cell_type": "code",
      "metadata": {
        "id": "sqNSqpI1Nk0-",
        "colab_type": "code",
        "outputId": "d17bf4be-616b-4f0f-860a-8ae8ae2450a7",
        "colab": {
          "base_uri": "https://localhost:8080/",
          "height": 136
        }
      },
      "source": [
        "H, W = map(int,input().split())\n",
        "s = [input() for i in range(H)]\n",
        "for i in range(H):\n",
        "    l = \"\"\n",
        "    for j in range(W):\n",
        "        if s[i][j] == \"#\":\n",
        "            l += \"#\"\n",
        "        else:\n",
        "            l += str(sum([t[max(0,j-1):min(W,j+2)].count(\"#\") for t in s[max(0,i-1):min(H,i+2)]]))\n",
        "    print(l)"
      ],
      "execution_count": 0,
      "outputs": [
        {
          "output_type": "stream",
          "text": [
            "3 5\n",
            ".....\n",
            ".#.#.\n",
            ".....\n",
            "11211\n",
            "1#2#1\n",
            "11211\n"
          ],
          "name": "stdout"
        }
      ]
    },
    {
      "cell_type": "code",
      "metadata": {
        "id": "_2emjIhgre5P",
        "colab_type": "code",
        "colab": {
          "base_uri": "https://localhost:8080/",
          "height": 136
        },
        "outputId": "9a710996-30d2-497f-f334-01756c6c0987"
      },
      "source": [
        "H,W=map(int,input().split())\n",
        "data=[list(input()) for i in range(H)]\n",
        "for w in range(W):\n",
        "  for h in range(H):\n",
        "    if data[h][w]==\".\":\n",
        "      xlist=[0]\n",
        "      if w!=0:xlist+=[-1]\n",
        "      if w!=W-1:xlist+=[1]\n",
        "      ylist=[0]\n",
        "      if h!=0:ylist+=[-1]\n",
        "      if h!=H-1:ylist+=[1]\n",
        "      data[h][w]=str([data[h+y][w+x] for x in xlist for y in ylist].count(\"#\"))\n",
        "for i in data:\n",
        "  print(\"\".join(i))"
      ],
      "execution_count": 1,
      "outputs": [
        {
          "output_type": "stream",
          "text": [
            "3 5\n",
            ".....\n",
            ".#.#.\n",
            ".....\n",
            "11211\n",
            "1#2#1\n",
            "11211\n"
          ],
          "name": "stdout"
        }
      ]
    }
  ]
}