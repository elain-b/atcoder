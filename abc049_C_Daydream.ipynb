{
  "nbformat": 4,
  "nbformat_minor": 0,
  "metadata": {
    "colab": {
      "name": "abc049-C_Daydream.ipynb",
      "provenance": [],
      "include_colab_link": true
    },
    "kernelspec": {
      "name": "python3",
      "display_name": "Python 3"
    }
  },
  "cells": [
    {
      "cell_type": "markdown",
      "metadata": {
        "id": "view-in-github",
        "colab_type": "text"
      },
      "source": [
        "<a href=\"https://colab.research.google.com/github/elain-b/atcoder/blob/master/abc049_C_Daydream.ipynb\" target=\"_parent\"><img src=\"https://colab.research.google.com/assets/colab-badge.svg\" alt=\"Open In Colab\"/></a>"
      ]
    },
    {
      "cell_type": "code",
      "metadata": {
        "id": "9Acz7nM-Zq2i",
        "colab_type": "code",
        "outputId": "3d919e53-edc1-4ce8-edc3-d5a1fa7ceb52",
        "colab": {
          "base_uri": "https://localhost:8080/",
          "height": 51
        }
      },
      "source": [
        "dreamer = \"dreamer\"\n",
        "eraser = \"eraser\"\n",
        "dream = \"dream\"\n",
        "erase = \"erase\"\n",
        "\n",
        "\n",
        "def main():\n",
        "    S = input()\n",
        "\n",
        "    while len(S):\n",
        "        lens = len(S)\n",
        "        if S[-len(dreamer) :] == dreamer:\n",
        "            S = S[: -len(dreamer)]\n",
        "        if S[-len(eraser) :] == eraser:\n",
        "            S = S[: -len(eraser)]\n",
        "        if S[-len(dream) :] == dream:\n",
        "            S = S[: -len(dream)]\n",
        "        if S[-len(erase) :] == erase:\n",
        "            S = S[: -len(erase)]\n",
        "        if lens == len(S):\n",
        "            print(\"NO\")\n",
        "            return\n",
        "    print(\"YES\")\n",
        "    return\n",
        "\n",
        "\n",
        "main()"
      ],
      "execution_count": 0,
      "outputs": [
        {
          "output_type": "stream",
          "text": [
            "erasedream\n",
            "YES\n"
          ],
          "name": "stdout"
        }
      ]
    },
    {
      "cell_type": "code",
      "metadata": {
        "id": "Ol0i9zExO_Af",
        "colab_type": "code",
        "colab": {
          "base_uri": "https://localhost:8080/",
          "height": 51
        },
        "outputId": "a4d27da3-0a9f-4f2a-9c8f-475ef0cbd407"
      },
      "source": [
        "import re\n",
        "print(\"YES\" if re.match(\"^(dream|dreamer|erase|eraser)+$\",input()) else \"NO\")"
      ],
      "execution_count": 1,
      "outputs": [
        {
          "output_type": "stream",
          "text": [
            "erasedream\n",
            "YES\n"
          ],
          "name": "stdout"
        }
      ]
    },
    {
      "cell_type": "code",
      "metadata": {
        "id": "pO0Dn8QdPA4R",
        "colab_type": "code",
        "colab": {
          "base_uri": "https://localhost:8080/",
          "height": 51
        },
        "outputId": "bc0c3557-372d-4d92-a094-2dbe01c6fdff"
      },
      "source": [
        "s=input().replace(\"eraaser\",\"\").replace(\"erase\",\"\").replace(\"dreamer\",\"\").replace(\"dream\",\"\")\n",
        "if s:\n",
        "  print(\"NO\")\n",
        "else:\n",
        "  print(\"YES\")"
      ],
      "execution_count": 2,
      "outputs": [
        {
          "output_type": "stream",
          "text": [
            "erasedream\n",
            "YES\n"
          ],
          "name": "stdout"
        }
      ]
    },
    {
      "cell_type": "code",
      "metadata": {
        "id": "IMCEBsgGcHKh",
        "colab_type": "code",
        "colab": {}
      },
      "source": [
        ""
      ],
      "execution_count": 0,
      "outputs": []
    }
  ]
}