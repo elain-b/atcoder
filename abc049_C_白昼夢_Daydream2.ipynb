{
  "nbformat": 4,
  "nbformat_minor": 0,
  "metadata": {
    "colab": {
      "name": "abc049_C_白昼夢_Daydream2.ipynb",
      "provenance": [],
      "include_colab_link": true
    },
    "kernelspec": {
      "name": "python3",
      "display_name": "Python 3"
    }
  },
  "cells": [
    {
      "cell_type": "markdown",
      "metadata": {
        "id": "view-in-github",
        "colab_type": "text"
      },
      "source": [
        "<a href=\"https://colab.research.google.com/github/elain-b/atcoder/blob/master/abc049_C_%E7%99%BD%E6%98%BC%E5%A4%A2_Daydream2.ipynb\" target=\"_parent\"><img src=\"https://colab.research.google.com/assets/colab-badge.svg\" alt=\"Open In Colab\"/></a>"
      ]
    },
    {
      "cell_type": "code",
      "metadata": {
        "id": "uQSA8sq1bPjb",
        "colab_type": "code",
        "colab": {
          "base_uri": "https://localhost:8080/",
          "height": 51
        },
        "outputId": "19179bca-9e24-4d79-c1c0-c5ed00affa0c"
      },
      "source": [
        "import re\n",
        "print(\"YES\" if re.match(\"^(dream|dreamer|erase|eraser)+$\",input()) else \"NO\")"
      ],
      "execution_count": 1,
      "outputs": [
        {
          "output_type": "stream",
          "text": [
            "erasedream\n",
            "YES\n"
          ],
          "name": "stdout"
        }
      ]
    }
  ]
}