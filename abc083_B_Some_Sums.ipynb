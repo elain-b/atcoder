{
  "nbformat": 4,
  "nbformat_minor": 0,
  "metadata": {
    "colab": {
      "name": "abc083-B-Some Sums.ipynb",
      "provenance": [],
      "include_colab_link": true
    },
    "kernelspec": {
      "name": "python3",
      "display_name": "Python 3"
    }
  },
  "cells": [
    {
      "cell_type": "markdown",
      "metadata": {
        "id": "view-in-github",
        "colab_type": "text"
      },
      "source": [
        "<a href=\"https://colab.research.google.com/github/elain-b/atcoder/blob/master/abc083_B_Some_Sums.ipynb\" target=\"_parent\"><img src=\"https://colab.research.google.com/assets/colab-badge.svg\" alt=\"Open In Colab\"/></a>"
      ]
    },
    {
      "cell_type": "code",
      "metadata": {
        "id": "i9F17LTs5N9X",
        "colab_type": "code",
        "outputId": "8eb7c465-5bb8-43c8-8fd6-2c114ec347ac",
        "colab": {
          "base_uri": "https://localhost:8080/",
          "height": 51
        }
      },
      "source": [
        "x = [int(i) for i in input().split()]\n",
        "ans = 0\n",
        "for i in range(1,x[0]+1):\n",
        "    tmp = sum([int(st) for st in str(i)])\n",
        "    if x[1]<=tmp and x[2] >= tmp:\n",
        "        ans += i\n",
        "print(ans)\n"
      ],
      "execution_count": 0,
      "outputs": [
        {
          "output_type": "stream",
          "text": [
            "20 2 5\n",
            "84\n"
          ],
          "name": "stdout"
        }
      ]
    },
    {
      "cell_type": "code",
      "metadata": {
        "id": "Zfd_zb3aBrgK",
        "colab_type": "code",
        "colab": {
          "base_uri": "https://localhost:8080/",
          "height": 51
        },
        "outputId": "a979731a-2352-40be-b340-3fba97d9c49e"
      },
      "source": [
        "n, a, b = map(int, input().split())\n",
        "ans = 0\n",
        "for i in range(n+1):\n",
        "  if a <= sum(list(map(int, list(str(i))))) <= b:\n",
        "    ans += i\n",
        "print(ans)"
      ],
      "execution_count": 1,
      "outputs": [
        {
          "output_type": "stream",
          "text": [
            "20 2 5\n",
            "84\n"
          ],
          "name": "stdout"
        }
      ]
    },
    {
      "cell_type": "code",
      "metadata": {
        "id": "1-dnxcp4CiMk",
        "colab_type": "code",
        "colab": {}
      },
      "source": [
        ""
      ],
      "execution_count": 0,
      "outputs": []
    }
  ]
}