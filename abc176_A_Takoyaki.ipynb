{
  "nbformat": 4,
  "nbformat_minor": 0,
  "metadata": {
    "colab": {
      "name": "abc176_A - Takoyaki.ipynb",
      "provenance": [],
      "collapsed_sections": [],
      "authorship_tag": "ABX9TyMjB2Qcp8pTB1cYknePkJKJ",
      "include_colab_link": true
    },
    "kernelspec": {
      "name": "python3",
      "display_name": "Python 3"
    }
  },
  "cells": [
    {
      "cell_type": "markdown",
      "metadata": {
        "id": "view-in-github",
        "colab_type": "text"
      },
      "source": [
        "<a href=\"https://colab.research.google.com/github/elain-b/atcoder/blob/master/abc176_A_Takoyaki.ipynb\" target=\"_parent\"><img src=\"https://colab.research.google.com/assets/colab-badge.svg\" alt=\"Open In Colab\"/></a>"
      ]
    },
    {
      "cell_type": "code",
      "metadata": {
        "id": "SFhsFPKCIQ1U",
        "colab_type": "code",
        "colab": {}
      },
      "source": [
        "import math\n",
        "n,x,t=list(map(int,input().split()))\n",
        "print((math.ceil(n/x))*t)"
      ],
      "execution_count": null,
      "outputs": []
    },
    {
      "cell_type": "code",
      "metadata": {
        "id": "MUf9HYCEeC6x",
        "colab_type": "code",
        "colab": {}
      },
      "source": [
        "n,x,t=list(map(int,input().split()))\n",
        "# print((round(n/x))*t)\n",
        "# print(round(n/x))\n",
        "# print(n/x)\n",
        "print(n,x,t)\n",
        "T=0\n",
        "while True:\n",
        "    if n-x>=x:\n",
        "        n-=x\n",
        "        T+=t\n",
        "        break\n",
        "    else:\n",
        "        T+=t\n",
        "        break\n",
        "print(T)"
      ],
      "execution_count": null,
      "outputs": []
    }
  ]
}