{
  "nbformat": 4,
  "nbformat_minor": 0,
  "metadata": {
    "colab": {
      "name": "abc044_B - 美しい文字列.ipynb",
      "provenance": [],
      "collapsed_sections": [],
      "authorship_tag": "ABX9TyOAEBqBya0Qn8GNPchEyJKb",
      "include_colab_link": true
    },
    "kernelspec": {
      "name": "python3",
      "display_name": "Python 3"
    }
  },
  "cells": [
    {
      "cell_type": "markdown",
      "metadata": {
        "id": "view-in-github",
        "colab_type": "text"
      },
      "source": [
        "<a href=\"https://colab.research.google.com/github/elain-b/atcoder/blob/master/abc044_B_%E7%BE%8E%E3%81%97%E3%81%84%E6%96%87%E5%AD%97%E5%88%97.ipynb\" target=\"_parent\"><img src=\"https://colab.research.google.com/assets/colab-badge.svg\" alt=\"Open In Colab\"/></a>"
      ]
    },
    {
      "cell_type": "code",
      "metadata": {
        "id": "SKiSmeIPEPNL",
        "colab_type": "code",
        "colab": {}
      },
      "source": [
        "# https://atcoder.jp/contests/abc044/tasks/abc04  4_b"
      ],
      "execution_count": null,
      "outputs": []
    },
    {
      "cell_type": "code",
      "metadata": {
        "id": "WfMOpaclDPZS",
        "colab_type": "code",
        "colab": {}
      },
      "source": [
        "w=input()\n",
        "for i in range(len(w)):\n",
        "    if w.count(w[i])%2!=0:\n",
        "        print('No')\n",
        "        exit()\n",
        "print('Yes')"
      ],
      "execution_count": null,
      "outputs": []
    }
  ]
}