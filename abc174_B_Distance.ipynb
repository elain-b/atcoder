{
  "nbformat": 4,
  "nbformat_minor": 0,
  "metadata": {
    "colab": {
      "name": "abc174_B - Distance.ipynb",
      "provenance": [],
      "authorship_tag": "ABX9TyNixxyd+uBoKigq6IhIaTcT",
      "include_colab_link": true
    },
    "kernelspec": {
      "name": "python3",
      "display_name": "Python 3"
    }
  },
  "cells": [
    {
      "cell_type": "markdown",
      "metadata": {
        "id": "view-in-github",
        "colab_type": "text"
      },
      "source": [
        "<a href=\"https://colab.research.google.com/github/elain-b/atcoder/blob/master/abc174_B_Distance.ipynb\" target=\"_parent\"><img src=\"https://colab.research.google.com/assets/colab-badge.svg\" alt=\"Open In Colab\"/></a>"
      ]
    },
    {
      "cell_type": "code",
      "metadata": {
        "id": "YMOSm3FUbv4o",
        "colab_type": "code",
        "colab": {}
      },
      "source": [
        "n,d=map(int,input().split())\n",
        "ans=0\n",
        "for i in range(n):\n",
        "    x,y=map(int,input().split())\n",
        "    if (x**2+y**2)**0.5 <= d:\n",
        "        ans+=1\n",
        "print(ans)"
      ],
      "execution_count": null,
      "outputs": []
    }
  ]
}