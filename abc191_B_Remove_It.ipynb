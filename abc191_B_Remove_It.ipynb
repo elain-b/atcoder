{
  "nbformat": 4,
  "nbformat_minor": 0,
  "metadata": {
    "colab": {
      "name": "abc191_B - Remove It.ipynb",
      "provenance": [],
      "collapsed_sections": [],
      "authorship_tag": "ABX9TyPG7/itULLKJf9S4+i8uuKp",
      "include_colab_link": true
    },
    "kernelspec": {
      "name": "python3",
      "display_name": "Python 3"
    }
  },
  "cells": [
    {
      "cell_type": "markdown",
      "metadata": {
        "id": "view-in-github",
        "colab_type": "text"
      },
      "source": [
        "<a href=\"https://colab.research.google.com/github/elain-b/atcoder/blob/master/abc191_B_Remove_It.ipynb\" target=\"_parent\"><img src=\"https://colab.research.google.com/assets/colab-badge.svg\" alt=\"Open In Colab\"/></a>"
      ]
    },
    {
      "cell_type": "code",
      "metadata": {
        "id": "ftT7zDJUTP7e"
      },
      "source": [
        "n,x=map(int,input().split(\" \"))\n",
        "a=[int(i) for i in input().split()]\n",
        "a=[i for i in a if i !=x]\n",
        "aa=map(str,a)\n",
        "aaa=' '.join(aa)\n",
        "print(aaa)"
      ],
      "execution_count": null,
      "outputs": []
    }
  ]
}