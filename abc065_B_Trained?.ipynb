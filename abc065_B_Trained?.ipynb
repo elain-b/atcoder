{
  "nbformat": 4,
  "nbformat_minor": 0,
  "metadata": {
    "colab": {
      "name": "abc065_B_Trained?.ipynb",
      "provenance": [],
      "include_colab_link": true
    },
    "kernelspec": {
      "name": "python3",
      "display_name": "Python 3"
    }
  },
  "cells": [
    {
      "cell_type": "markdown",
      "metadata": {
        "id": "view-in-github",
        "colab_type": "text"
      },
      "source": [
        "<a href=\"https://colab.research.google.com/github/elain-b/atcoder/blob/master/abc065_B_Trained%3F.ipynb\" target=\"_parent\"><img src=\"https://colab.research.google.com/assets/colab-badge.svg\" alt=\"Open In Colab\"/></a>"
      ]
    },
    {
      "cell_type": "code",
      "metadata": {
        "id": "ZOCrPgHV0xzk",
        "colab_type": "code",
        "colab": {
          "base_uri": "https://localhost:8080/",
          "height": 102
        },
        "outputId": "e7b1345a-9255-44a2-d250-a114e975ac17"
      },
      "source": [
        "def push():\n",
        "    n = int(input())\n",
        "    a = [int(input()) for i in range(n)]\n",
        "    f = [0]*n\n",
        "    c = 0\n",
        "    \n",
        "    p = a[0]\n",
        "    f[0] = 1\n",
        "    \n",
        "    while 1:\n",
        "        f[p-1] = 1\n",
        "        c += 1\n",
        "        if p == 2:\n",
        "            return c\n",
        "        p = a[p-1]\n",
        "        if f[p-1] == 1:\n",
        "            return -1\n",
        "print(push())"
      ],
      "execution_count": 1,
      "outputs": [
        {
          "output_type": "stream",
          "text": [
            "3\n",
            "3\n",
            "1\n",
            "2\n",
            "2\n"
          ],
          "name": "stdout"
        }
      ]
    },
    {
      "cell_type": "code",
      "metadata": {
        "id": "2fcA_YhA03_I",
        "colab_type": "code",
        "colab": {}
      },
      "source": [
        ""
      ],
      "execution_count": 0,
      "outputs": []
    }
  ]
}