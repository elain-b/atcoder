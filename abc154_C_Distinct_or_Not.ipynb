{
  "nbformat": 4,
  "nbformat_minor": 0,
  "metadata": {
    "colab": {
      "name": "abc154_C - Distinct or Not.ipynb",
      "provenance": [],
      "authorship_tag": "ABX9TyPoAjAQ4c3ybo7hGs1C2F24",
      "include_colab_link": true
    },
    "kernelspec": {
      "name": "python3",
      "display_name": "Python 3"
    }
  },
  "cells": [
    {
      "cell_type": "markdown",
      "metadata": {
        "id": "view-in-github",
        "colab_type": "text"
      },
      "source": [
        "<a href=\"https://colab.research.google.com/github/elain-b/atcoder/blob/master/abc154_C_Distinct_or_Not.ipynb\" target=\"_parent\"><img src=\"https://colab.research.google.com/assets/colab-badge.svg\" alt=\"Open In Colab\"/></a>"
      ]
    },
    {
      "cell_type": "code",
      "metadata": {
        "id": "-FgqbJIw91qF",
        "colab_type": "code",
        "colab": {}
      },
      "source": [
        "n=int(input())\n",
        "*H, = map(int, input().split())\n",
        "def has_duplicates(seq):\n",
        "    return len(seq) != len(set(seq))\n",
        "if has_duplicates(H) == False:\n",
        "    print('YES')\n",
        "else:\n",
        "    print('NO')"
      ],
      "execution_count": 0,
      "outputs": []
    }
  ]
}