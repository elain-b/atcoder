{
  "nbformat": 4,
  "nbformat_minor": 0,
  "metadata": {
    "colab": {
      "name": "abc043_C - いっしょ.ipynb",
      "provenance": [],
      "collapsed_sections": [],
      "authorship_tag": "ABX9TyMyvNtyduazHXa2xbY76J8i",
      "include_colab_link": true
    },
    "kernelspec": {
      "name": "python3",
      "display_name": "Python 3"
    }
  },
  "cells": [
    {
      "cell_type": "markdown",
      "metadata": {
        "id": "view-in-github",
        "colab_type": "text"
      },
      "source": [
        "<a href=\"https://colab.research.google.com/github/elain-b/atcoder/blob/master/abc043_C_%E3%81%84%E3%81%A3%E3%81%97%E3%82%87.ipynb\" target=\"_parent\"><img src=\"https://colab.research.google.com/assets/colab-badge.svg\" alt=\"Open In Colab\"/></a>"
      ]
    },
    {
      "cell_type": "code",
      "metadata": {
        "id": "Cw7j8NkqF09z",
        "colab_type": "code",
        "colab": {}
      },
      "source": [
        "# https://atcoder.jp/contests/abc043/tasks/arc059_a"
      ],
      "execution_count": 0,
      "outputs": []
    },
    {
      "cell_type": "code",
      "metadata": {
        "id": "x7OA-Z05C8CQ",
        "colab_type": "code",
        "colab": {}
      },
      "source": [
        "n=int(input())\n",
        "a=list(map(int, input().split()))\n",
        "m=99999999999999\n",
        "for i in range(min(a),max(a)+1):\n",
        "    k=0\n",
        "    for j in a:\n",
        "        k=k+(j-i)**2\n",
        "    if k<m:\n",
        "        m=k\n",
        "print(m)"
      ],
      "execution_count": 0,
      "outputs": []
    }
  ]
}