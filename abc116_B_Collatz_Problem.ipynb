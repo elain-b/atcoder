{
  "nbformat": 4,
  "nbformat_minor": 0,
  "metadata": {
    "colab": {
      "name": "abc116_B - Collatz Problem.ipynb",
      "provenance": [],
      "collapsed_sections": [],
      "authorship_tag": "ABX9TyNsy0rOsx6CwlUXRpI203pb",
      "include_colab_link": true
    },
    "kernelspec": {
      "name": "python3",
      "display_name": "Python 3"
    }
  },
  "cells": [
    {
      "cell_type": "markdown",
      "metadata": {
        "id": "view-in-github",
        "colab_type": "text"
      },
      "source": [
        "<a href=\"https://colab.research.google.com/github/elain-b/atcoder/blob/master/abc116_B_Collatz_Problem.ipynb\" target=\"_parent\"><img src=\"https://colab.research.google.com/assets/colab-badge.svg\" alt=\"Open In Colab\"/></a>"
      ]
    },
    {
      "cell_type": "markdown",
      "metadata": {
        "id": "vfzbLOru9CJW",
        "colab_type": "text"
      },
      "source": [
        "https://atcoder.jp/contests/abc116/tasks/abc116_b"
      ]
    },
    {
      "cell_type": "code",
      "metadata": {
        "id": "eKTqA8ty86zK",
        "colab_type": "code",
        "colab": {}
      },
      "source": [
        "S=int(input())\n",
        "a=[]\n",
        "while not(str(S) in a):\n",
        "    a.append(str(S))\n",
        "    if S%2==0:\n",
        "        S=int(S/2)\n",
        "    else:\n",
        "        S=3*S+1\n",
        "print(len(a)+1)"
      ],
      "execution_count": 0,
      "outputs": []
    },
    {
      "cell_type": "code",
      "metadata": {
        "id": "dvDUEYysJT00",
        "colab_type": "code",
        "colab": {}
      },
      "source": [
        "S=int(input())\n",
        "a=[]\n",
        "while not(str(S) in a):\n",
        "    a.append(str(S))\n",
        "    S=(S%2==0)*(S//2)+(S%2==1)*(S*3+1)\n",
        "print(len(a)+1)"
      ],
      "execution_count": 0,
      "outputs": []
    }
  ]
}