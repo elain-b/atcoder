{
  "nbformat": 4,
  "nbformat_minor": 0,
  "metadata": {
    "colab": {
      "name": "abc189_A - Slot.ipynb",
      "provenance": [],
      "authorship_tag": "ABX9TyOHzAmeP/6xHH+wwK9UXX4r",
      "include_colab_link": true
    },
    "kernelspec": {
      "name": "python3",
      "display_name": "Python 3"
    }
  },
  "cells": [
    {
      "cell_type": "markdown",
      "metadata": {
        "id": "view-in-github",
        "colab_type": "text"
      },
      "source": [
        "<a href=\"https://colab.research.google.com/github/elain-b/atcoder/blob/master/abc189_A_Slot.ipynb\" target=\"_parent\"><img src=\"https://colab.research.google.com/assets/colab-badge.svg\" alt=\"Open In Colab\"/></a>"
      ]
    },
    {
      "cell_type": "code",
      "metadata": {
        "id": "mficVYkG-a9i"
      },
      "source": [
        "c=list(input())\n",
        "if c[0]==c[1]==c[2]:\n",
        "    print('Won')\n",
        "else:\n",
        "    print('Lost')"
      ],
      "execution_count": null,
      "outputs": []
    }
  ]
}