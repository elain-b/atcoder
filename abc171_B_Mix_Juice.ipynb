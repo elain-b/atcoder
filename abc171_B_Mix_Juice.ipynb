{
  "nbformat": 4,
  "nbformat_minor": 0,
  "metadata": {
    "colab": {
      "name": "abc171_B - Mix Juice.ipynb",
      "provenance": [],
      "authorship_tag": "ABX9TyOUUcmKNHtN+Ht0sDgmjT/9",
      "include_colab_link": true
    },
    "kernelspec": {
      "name": "python3",
      "display_name": "Python 3"
    }
  },
  "cells": [
    {
      "cell_type": "markdown",
      "metadata": {
        "id": "view-in-github",
        "colab_type": "text"
      },
      "source": [
        "<a href=\"https://colab.research.google.com/github/elain-b/atcoder/blob/master/abc171_B_Mix_Juice.ipynb\" target=\"_parent\"><img src=\"https://colab.research.google.com/assets/colab-badge.svg\" alt=\"Open In Colab\"/></a>"
      ]
    },
    {
      "cell_type": "code",
      "metadata": {
        "id": "3AJOwbrZocAW",
        "colab_type": "code",
        "colab": {}
      },
      "source": [
        "N,K=list(map(int, input().split()))\n",
        "p=sorted(list(map(int,input().split())))\n",
        "print(sum(p[:K]))"
      ],
      "execution_count": null,
      "outputs": []
    }
  ]
}