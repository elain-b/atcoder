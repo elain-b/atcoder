{
  "nbformat": 4,
  "nbformat_minor": 0,
  "metadata": {
    "colab": {
      "name": "abc184_B - Quizzes / .ipynb",
      "provenance": [],
      "collapsed_sections": [],
      "authorship_tag": "ABX9TyNkT4YQL7Az3R7ZXg/qtekW",
      "include_colab_link": true
    },
    "kernelspec": {
      "name": "python3",
      "display_name": "Python 3"
    }
  },
  "cells": [
    {
      "cell_type": "markdown",
      "metadata": {
        "id": "view-in-github",
        "colab_type": "text"
      },
      "source": [
        "<a href=\"https://colab.research.google.com/github/elain-b/atcoder/blob/master/abc184_B_Quizzes_.ipynb\" target=\"_parent\"><img src=\"https://colab.research.google.com/assets/colab-badge.svg\" alt=\"Open In Colab\"/></a>"
      ]
    },
    {
      "cell_type": "code",
      "metadata": {
        "id": "nGZCz7ci5I7x"
      },
      "source": [
        "N,X=list(map(int,input().split()))\n",
        "S=input()\n",
        "for i in range(len(S)):\n",
        "    if X>=0:\n",
        "        if S[i]=='o':\n",
        "            X+=1\n",
        "    if X>0:\n",
        "        if S[i]=='x':\n",
        "            X-=1\n",
        "    if X==0 and S[i]=='x':\n",
        "        continue\n",
        "print(X)"
      ],
      "execution_count": null,
      "outputs": []
    }
  ]
}