{
  "nbformat": 4,
  "nbformat_minor": 0,
  "metadata": {
    "colab": {
      "name": "abc045_C - たくさんの数式.ipynb",
      "provenance": [],
      "collapsed_sections": [],
      "authorship_tag": "ABX9TyPZxrymLkH7GXFjtk4kdpTO",
      "include_colab_link": true
    },
    "kernelspec": {
      "name": "python3",
      "display_name": "Python 3"
    }
  },
  "cells": [
    {
      "cell_type": "markdown",
      "metadata": {
        "id": "view-in-github",
        "colab_type": "text"
      },
      "source": [
        "<a href=\"https://colab.research.google.com/github/elain-b/atcoder/blob/master/abc045_C_%E3%81%9F%E3%81%8F%E3%81%95%E3%82%93%E3%81%AE%E6%95%B0%E5%BC%8F.ipynb\" target=\"_parent\"><img src=\"https://colab.research.google.com/assets/colab-badge.svg\" alt=\"Open In Colab\"/></a>"
      ]
    },
    {
      "cell_type": "code",
      "metadata": {
        "id": "I5sDMHJ86fAK",
        "colab_type": "code",
        "colab": {}
      },
      "source": [
        "# https://atcoder.jp/contests/abc045/tasks/arc061_a"
      ],
      "execution_count": null,
      "outputs": []
    },
    {
      "cell_type": "code",
      "metadata": {
        "id": "DwJuxzRs6UOb",
        "colab_type": "code",
        "colab": {}
      },
      "source": [
        "s=input()\n",
        "a=0\n",
        "print(int(s))\n",
        "print(len(s))\n",
        "# print(int(s[:1])+int(s[1:]))\n",
        "# print(int(s[:2])+int(s[2:]))\n",
        "# print(int(s[:3])+int(s[3:]))\n",
        "# print(int(s[:4])+int(s[4:]))\n",
        "for i in range(1,len(s)//2):\n",
        "    b=int(s[:i])+int(s[i:])\n",
        "    print(b*2)\n",
        "# print(int(s[0])+int(s[1])+int(s[2:]))"
      ],
      "execution_count": null,
      "outputs": []
    }
  ]
}