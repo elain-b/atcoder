{
  "nbformat": 4,
  "nbformat_minor": 0,
  "metadata": {
    "colab": {
      "name": "abc200_B - 200th ABC-200.ipynb",
      "provenance": [],
      "collapsed_sections": [],
      "authorship_tag": "ABX9TyMLGGvYPqYFryfKIZ602rC9",
      "include_colab_link": true
    },
    "kernelspec": {
      "name": "python3",
      "display_name": "Python 3"
    },
    "language_info": {
      "name": "python"
    }
  },
  "cells": [
    {
      "cell_type": "markdown",
      "metadata": {
        "id": "view-in-github",
        "colab_type": "text"
      },
      "source": [
        "<a href=\"https://colab.research.google.com/github/elain-b/atcoder/blob/master/abc200_B_200th_ABC_200.ipynb\" target=\"_parent\"><img src=\"https://colab.research.google.com/assets/colab-badge.svg\" alt=\"Open In Colab\"/></a>"
      ]
    },
    {
      "cell_type": "code",
      "metadata": {
        "id": "Tdfo15-uIpR0"
      },
      "source": [
        "n,k=map(int,input().split())\n",
        "for K in range(k):\n",
        "    if n%200==0:\n",
        "        n=n//200\n",
        "    else:\n",
        "        n=int(str(n)+'200')\n",
        "print(n)"
      ],
      "execution_count": null,
      "outputs": []
    }
  ]
}