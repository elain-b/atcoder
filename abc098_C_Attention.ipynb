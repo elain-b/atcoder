{
  "nbformat": 4,
  "nbformat_minor": 0,
  "metadata": {
    "colab": {
      "name": "abc098_C_Attention.ipynb",
      "provenance": [],
      "include_colab_link": true
    },
    "kernelspec": {
      "name": "python3",
      "display_name": "Python 3"
    }
  },
  "cells": [
    {
      "cell_type": "markdown",
      "metadata": {
        "id": "view-in-github",
        "colab_type": "text"
      },
      "source": [
        "<a href=\"https://colab.research.google.com/github/elain-b/atcoder/blob/master/abc098_C_Attention.ipynb\" target=\"_parent\"><img src=\"https://colab.research.google.com/assets/colab-badge.svg\" alt=\"Open In Colab\"/></a>"
      ]
    },
    {
      "cell_type": "code",
      "metadata": {
        "id": "5US-CyXexBve",
        "colab_type": "code",
        "colab": {
          "base_uri": "https://localhost:8080/",
          "height": 68
        },
        "outputId": "208db977-ce51-43f8-c198-5d61b11f70fc"
      },
      "source": [
        "N = int(input())\n",
        "S = input()\n",
        "E = [0] * N\n",
        "t = 0\n",
        "for i, s in enumerate(S[len(S)-1:0:-1]):\n",
        "    if s == 'E':\n",
        "        t += 1\n",
        "    E[-i-2] = t\n",
        "    \n",
        "t = 0\n",
        "for i, s in enumerate(S[:len(S) - 1]):\n",
        "    if s == 'W':\n",
        "        t += 1\n",
        "    E[i+1] += t\n",
        "    \n",
        "print(min(E))"
      ],
      "execution_count": 2,
      "outputs": [
        {
          "output_type": "stream",
          "text": [
            "5\n",
            "WEEWW\n",
            "1\n"
          ],
          "name": "stdout"
        }
      ]
    },
    {
      "cell_type": "code",
      "metadata": {
        "id": "c4IqVu2lxLl8",
        "colab_type": "code",
        "colab": {}
      },
      "source": [
        ""
      ],
      "execution_count": 0,
      "outputs": []
    }
  ]
}