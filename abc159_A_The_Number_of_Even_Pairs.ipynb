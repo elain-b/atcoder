{
  "nbformat": 4,
  "nbformat_minor": 0,
  "metadata": {
    "colab": {
      "name": "abc159_A - The Number of Even Pairs.ipynb",
      "provenance": [],
      "collapsed_sections": [],
      "authorship_tag": "ABX9TyOA81t6t5RkB4XTZ0mPtNwC",
      "include_colab_link": true
    },
    "kernelspec": {
      "name": "python3",
      "display_name": "Python 3"
    }
  },
  "cells": [
    {
      "cell_type": "markdown",
      "metadata": {
        "id": "view-in-github",
        "colab_type": "text"
      },
      "source": [
        "<a href=\"https://colab.research.google.com/github/elain-b/atcoder/blob/master/abc159_A_The_Number_of_Even_Pairs.ipynb\" target=\"_parent\"><img src=\"https://colab.research.google.com/assets/colab-badge.svg\" alt=\"Open In Colab\"/></a>"
      ]
    },
    {
      "cell_type": "code",
      "metadata": {
        "id": "p_I5wYaUP7VC",
        "colab_type": "code",
        "colab": {}
      },
      "source": [
        "N, M = map(int, input().split())\n",
        "# 2 1\n",
        "# https://atcoder.jp/contests/abc159/tasks/abc159_a\n",
        "# 階乗"
      ],
      "execution_count": 0,
      "outputs": []
    },
    {
      "cell_type": "code",
      "metadata": {
        "id": "OFptQMqHjIL-",
        "colab_type": "code",
        "colab": {}
      },
      "source": [
        "import math\n",
        "N, M = map(int, input().split())\n",
        "if N>=2:\n",
        "    n=math.factorial(N) // (math.factorial(N - 2) * math.factorial(2))\n",
        "else:\n",
        "    n=0\n",
        "if M>=2:\n",
        "    m=math.factorial(M) // (math.factorial(M - 2) * math.factorial(2))\n",
        "else:\n",
        "    m=0\n",
        "print(n+m)"
      ],
      "execution_count": 0,
      "outputs": []
    }
  ]
}