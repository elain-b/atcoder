{
  "nbformat": 4,
  "nbformat_minor": 0,
  "metadata": {
    "colab": {
      "name": "abc179_A - Plural Form.ipynb",
      "provenance": [],
      "collapsed_sections": [],
      "authorship_tag": "ABX9TyMhdjiKOpOp9FDjyTWs3cEt",
      "include_colab_link": true
    },
    "kernelspec": {
      "name": "python3",
      "display_name": "Python 3"
    }
  },
  "cells": [
    {
      "cell_type": "markdown",
      "metadata": {
        "id": "view-in-github",
        "colab_type": "text"
      },
      "source": [
        "<a href=\"https://colab.research.google.com/github/elain-b/atcoder/blob/master/abc179_A_Plural_Form.ipynb\" target=\"_parent\"><img src=\"https://colab.research.google.com/assets/colab-badge.svg\" alt=\"Open In Colab\"/></a>"
      ]
    },
    {
      "cell_type": "code",
      "metadata": {
        "id": "pYQiKSrxY0J0",
        "colab_type": "code",
        "colab": {}
      },
      "source": [
        "s=input()\n",
        "if s[-1]=='s':\n",
        "    s+='es'\n",
        "else:\n",
        "    s+='s'\n",
        "print(s)"
      ],
      "execution_count": null,
      "outputs": []
    }
  ]
}