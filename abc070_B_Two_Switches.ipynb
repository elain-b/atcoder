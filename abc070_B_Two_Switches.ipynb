{
  "nbformat": 4,
  "nbformat_minor": 0,
  "metadata": {
    "colab": {
      "name": "abc070_B_Two_Switches.ipynb",
      "provenance": [],
      "include_colab_link": true
    },
    "kernelspec": {
      "name": "python3",
      "display_name": "Python 3"
    }
  },
  "cells": [
    {
      "cell_type": "markdown",
      "metadata": {
        "id": "view-in-github",
        "colab_type": "text"
      },
      "source": [
        "<a href=\"https://colab.research.google.com/github/elain-b/atcoder/blob/master/abc070_B_Two_Switches.ipynb\" target=\"_parent\"><img src=\"https://colab.research.google.com/assets/colab-badge.svg\" alt=\"Open In Colab\"/></a>"
      ]
    },
    {
      "cell_type": "code",
      "metadata": {
        "id": "oJ47oKENDLZv",
        "colab_type": "code",
        "colab": {
          "base_uri": "https://localhost:8080/",
          "height": 51
        },
        "outputId": "da8f6437-a4e9-43d9-a136-0367191dd3bf"
      },
      "source": [
        "a, b, c, d = map(int,input().split())\n",
        "result = 0\n",
        "for i in range(max(b, d)+1):\n",
        "    if a < i <= b and c < i <= d:\n",
        "        result +=1\n",
        "print(result)"
      ],
      "execution_count": 1,
      "outputs": [
        {
          "output_type": "stream",
          "text": [
            "0 75 25 100\n",
            "50\n"
          ],
          "name": "stdout"
        }
      ]
    }
  ]
}