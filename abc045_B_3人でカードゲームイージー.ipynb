{
  "nbformat": 4,
  "nbformat_minor": 0,
  "metadata": {
    "colab": {
      "name": "abc045_B - 3人でカードゲームイージー.ipynb",
      "provenance": [],
      "collapsed_sections": [],
      "authorship_tag": "ABX9TyMIKQfEc3T7HOlEwUkk6pQl",
      "include_colab_link": true
    },
    "kernelspec": {
      "name": "python3",
      "display_name": "Python 3"
    }
  },
  "cells": [
    {
      "cell_type": "markdown",
      "metadata": {
        "id": "view-in-github",
        "colab_type": "text"
      },
      "source": [
        "<a href=\"https://colab.research.google.com/github/elain-b/atcoder/blob/master/abc045_B_3%E4%BA%BA%E3%81%A7%E3%82%AB%E3%83%BC%E3%83%89%E3%82%B2%E3%83%BC%E3%83%A0%E3%82%A4%E3%83%BC%E3%82%B8%E3%83%BC.ipynb\" target=\"_parent\"><img src=\"https://colab.research.google.com/assets/colab-badge.svg\" alt=\"Open In Colab\"/></a>"
      ]
    },
    {
      "cell_type": "code",
      "metadata": {
        "id": "nCc67-qU98LH",
        "colab_type": "code",
        "colab": {}
      },
      "source": [
        "# https://atcoder.jp/contests/abc045/tasks/abc045_b"
      ],
      "execution_count": null,
      "outputs": []
    },
    {
      "cell_type": "code",
      "metadata": {
        "id": "OSpcHDdJ92us",
        "colab_type": "code",
        "colab": {}
      },
      "source": [
        "a=list(input())\n",
        "b=list(input())\n",
        "c=list(input())\n",
        "d='a'\n",
        "while True:\n",
        "    if d=='a':\n",
        "        if len(a)==0:\n",
        "            print('A')\n",
        "            break\n",
        "        d=a[0]\n",
        "        del a[0]\n",
        "    elif d=='b':\n",
        "        if len(b)==0:\n",
        "            print('B')\n",
        "            break\n",
        "        d=b[0]\n",
        "        del b[0]\n",
        "    elif d=='c':\n",
        "        if len(c)==0:\n",
        "            print('C')\n",
        "            break\n",
        "        d=c[0]\n",
        "        del c[0]"
      ],
      "execution_count": null,
      "outputs": []
    }
  ]
}