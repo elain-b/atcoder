{
  "nbformat": 4,
  "nbformat_minor": 0,
  "metadata": {
    "colab": {
      "name": "abc204_B - Nuts.ipynb",
      "provenance": [],
      "authorship_tag": "ABX9TyMPBTPcpg2E94h8AdikX3iR",
      "include_colab_link": true
    },
    "kernelspec": {
      "name": "python3",
      "display_name": "Python 3"
    },
    "language_info": {
      "name": "python"
    }
  },
  "cells": [
    {
      "cell_type": "markdown",
      "metadata": {
        "id": "view-in-github",
        "colab_type": "text"
      },
      "source": [
        "<a href=\"https://colab.research.google.com/github/elain-b/atcoder/blob/master/abc204_B_Nuts.ipynb\" target=\"_parent\"><img src=\"https://colab.research.google.com/assets/colab-badge.svg\" alt=\"Open In Colab\"/></a>"
      ]
    },
    {
      "cell_type": "code",
      "metadata": {
        "id": "WRXg67kzb6cP"
      },
      "source": [
        "n=int(input())\n",
        "a=list(map(int, input().split()))\n",
        "ans=0\n",
        "for i in range(n):\n",
        "    if a[i]>=10:\n",
        "        ans+=a[i]-10\n",
        "print(ans)"
      ],
      "execution_count": null,
      "outputs": []
    }
  ]
}