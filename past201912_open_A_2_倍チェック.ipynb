{
  "nbformat": 4,
  "nbformat_minor": 0,
  "metadata": {
    "colab": {
      "name": "past201912-open_A - 2 倍チェック.ipynb",
      "provenance": [],
      "collapsed_sections": [],
      "authorship_tag": "ABX9TyNgvqQDBNszNIS4MrJAavqs",
      "include_colab_link": true
    },
    "kernelspec": {
      "name": "python3",
      "display_name": "Python 3"
    }
  },
  "cells": [
    {
      "cell_type": "markdown",
      "metadata": {
        "id": "view-in-github",
        "colab_type": "text"
      },
      "source": [
        "<a href=\"https://colab.research.google.com/github/elain-b/atcoder/blob/master/past201912_open_A_2_%E5%80%8D%E3%83%81%E3%82%A7%E3%83%83%E3%82%AF.ipynb\" target=\"_parent\"><img src=\"https://colab.research.google.com/assets/colab-badge.svg\" alt=\"Open In Colab\"/></a>"
      ]
    },
    {
      "cell_type": "code",
      "metadata": {
        "id": "lYJ138lInnh4",
        "colab_type": "code",
        "colab": {}
      },
      "source": [
        "s=input()\n",
        "if s.isnumeric():\n",
        "    print(int(s)*2)\n",
        "else:\n",
        "    print('error')"
      ],
      "execution_count": 0,
      "outputs": []
    }
  ]
}