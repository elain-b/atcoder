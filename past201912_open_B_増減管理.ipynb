{
  "nbformat": 4,
  "nbformat_minor": 0,
  "metadata": {
    "colab": {
      "name": "past201912-open_B - 増減管理.ipynb",
      "provenance": [],
      "collapsed_sections": [],
      "authorship_tag": "ABX9TyMX0eIrDFscJlJ97IQGc+qJ",
      "include_colab_link": true
    },
    "kernelspec": {
      "name": "python3",
      "display_name": "Python 3"
    }
  },
  "cells": [
    {
      "cell_type": "markdown",
      "metadata": {
        "id": "view-in-github",
        "colab_type": "text"
      },
      "source": [
        "<a href=\"https://colab.research.google.com/github/elain-b/atcoder/blob/master/past201912_open_B_%E5%A2%97%E6%B8%9B%E7%AE%A1%E7%90%86.ipynb\" target=\"_parent\"><img src=\"https://colab.research.google.com/assets/colab-badge.svg\" alt=\"Open In Colab\"/></a>"
      ]
    },
    {
      "cell_type": "code",
      "metadata": {
        "id": "wrnJPxfA00rC",
        "colab_type": "code",
        "colab": {}
      },
      "source": [
        "s=int(input())\n",
        "aa = int(input())\n",
        "for i in range(s-1):\n",
        "    a=int(input())\n",
        "    if a>aa:\n",
        "        print('up',a-aa)\n",
        "        aa=a\n",
        "    elif a<aa:\n",
        "        print('down',aa-a)\n",
        "        aa=a\n",
        "    else:\n",
        "        print('stay')\n",
        "        aa=a"
      ],
      "execution_count": 0,
      "outputs": []
    }
  ]
}