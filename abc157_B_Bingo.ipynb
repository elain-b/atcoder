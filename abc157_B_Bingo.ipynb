{
  "nbformat": 4,
  "nbformat_minor": 0,
  "metadata": {
    "colab": {
      "name": "abc157_B - Bingo.ipynb",
      "provenance": [],
      "collapsed_sections": [],
      "authorship_tag": "ABX9TyOfU8C6YJcrK0P+6Rk9KjJw",
      "include_colab_link": true
    },
    "kernelspec": {
      "name": "python3",
      "display_name": "Python 3"
    }
  },
  "cells": [
    {
      "cell_type": "markdown",
      "metadata": {
        "id": "view-in-github",
        "colab_type": "text"
      },
      "source": [
        "<a href=\"https://colab.research.google.com/github/elain-b/atcoder/blob/master/abc157_B_Bingo.ipynb\" target=\"_parent\"><img src=\"https://colab.research.google.com/assets/colab-badge.svg\" alt=\"Open In Colab\"/></a>"
      ]
    },
    {
      "cell_type": "code",
      "metadata": {
        "id": "u0-xKjIeL6pE",
        "colab_type": "code",
        "colab": {}
      },
      "source": [
        "import numpy as np\n",
        "def f(s,box):\n",
        "    for j in range(3):\n",
        "        t=0\n",
        "        for i in range(N):\n",
        "            if s[i] in box[j]:\n",
        "                t+=1\n",
        "        if t==3:\n",
        "            print('Yes')\n",
        "            sys.exit()\n",
        "box=[]\n",
        "for i in range(3):\n",
        "    box = box+[input().split()]\n",
        "N=int(input())\n",
        "s = [input() for i in range(N)]\n",
        "box = np.array(box).T\n",
        "f(s,box)\n",
        "box = np.array(box).T\n",
        "if box[0][0] in s:\n",
        "    if box[1][1] in s:\n",
        "        if box[2][2] in s:\n",
        "            print('Yes')\n",
        "            sys.exit()\n",
        "if box[0][2] in s:\n",
        "    if box[1][1] in s:\n",
        "        if box[2][0] in s:\n",
        "            print('Yes')\n",
        "            sys.exit()\n",
        "print('No')"
      ],
      "execution_count": 0,
      "outputs": []
    }
  ]
}