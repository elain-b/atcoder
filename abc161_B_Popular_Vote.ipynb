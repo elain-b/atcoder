{
  "nbformat": 4,
  "nbformat_minor": 0,
  "metadata": {
    "colab": {
      "name": "abc161_B - Popular Vote.ipynb",
      "provenance": [],
      "collapsed_sections": [],
      "authorship_tag": "ABX9TyP17CsXKHrFkCTPjTfd5HUd",
      "include_colab_link": true
    },
    "kernelspec": {
      "name": "python3",
      "display_name": "Python 3"
    }
  },
  "cells": [
    {
      "cell_type": "markdown",
      "metadata": {
        "id": "view-in-github",
        "colab_type": "text"
      },
      "source": [
        "<a href=\"https://colab.research.google.com/github/elain-b/atcoder/blob/master/abc161_B_Popular_Vote.ipynb\" target=\"_parent\"><img src=\"https://colab.research.google.com/assets/colab-badge.svg\" alt=\"Open In Colab\"/></a>"
      ]
    },
    {
      "cell_type": "code",
      "metadata": {
        "id": "Nz5TXNMxL7Wh",
        "colab_type": "code",
        "colab": {}
      },
      "source": [
        "# https://atcoder.jp/contests/abc161/tasks/abc161_b"
      ],
      "execution_count": null,
      "outputs": []
    },
    {
      "cell_type": "code",
      "metadata": {
        "id": "btPE-UVcLNjc",
        "colab_type": "code",
        "colab": {}
      },
      "source": [
        "n,m = map(int, input().split())\n",
        "a=list(map(int, input().split()))\n",
        "c=sum(a)/(4*m)\n",
        "b=0\n",
        "for i in a:\n",
        "    if i>=c:\n",
        "        b+=1\n",
        "if b>=m:\n",
        "    print('Yes')\n",
        "else:\n",
        "    print('No')"
      ],
      "execution_count": null,
      "outputs": []
    }
  ]
}