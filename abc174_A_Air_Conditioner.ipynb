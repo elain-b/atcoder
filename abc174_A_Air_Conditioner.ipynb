{
  "nbformat": 4,
  "nbformat_minor": 0,
  "metadata": {
    "colab": {
      "name": "abc174_A_Air Conditioner.ipynb",
      "provenance": [],
      "authorship_tag": "ABX9TyNDx/LWsY5XU24gDzIIZsjv",
      "include_colab_link": true
    },
    "kernelspec": {
      "name": "python3",
      "display_name": "Python 3"
    }
  },
  "cells": [
    {
      "cell_type": "markdown",
      "metadata": {
        "id": "view-in-github",
        "colab_type": "text"
      },
      "source": [
        "<a href=\"https://colab.research.google.com/github/elain-b/atcoder/blob/master/abc174_A_Air_Conditioner.ipynb\" target=\"_parent\"><img src=\"https://colab.research.google.com/assets/colab-badge.svg\" alt=\"Open In Colab\"/></a>"
      ]
    },
    {
      "cell_type": "code",
      "metadata": {
        "id": "qbNsVFULbS5K",
        "colab_type": "code",
        "colab": {}
      },
      "source": [
        "print(\"Yes\" if int(input())>=30 else \"No\")"
      ],
      "execution_count": null,
      "outputs": []
    }
  ]
}