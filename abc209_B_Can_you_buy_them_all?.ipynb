{
  "nbformat": 4,
  "nbformat_minor": 0,
  "metadata": {
    "colab": {
      "name": "abc209_B - Can you buy them all?.ipynb",
      "provenance": [],
      "authorship_tag": "ABX9TyOr8WSb+HSz8RCmThx8DeUI",
      "include_colab_link": true
    },
    "kernelspec": {
      "name": "python3",
      "display_name": "Python 3"
    },
    "language_info": {
      "name": "python"
    }
  },
  "cells": [
    {
      "cell_type": "markdown",
      "metadata": {
        "id": "view-in-github",
        "colab_type": "text"
      },
      "source": [
        "<a href=\"https://colab.research.google.com/github/elain-b/atcoder/blob/master/abc209_B_Can_you_buy_them_all%3F.ipynb\" target=\"_parent\"><img src=\"https://colab.research.google.com/assets/colab-badge.svg\" alt=\"Open In Colab\"/></a>"
      ]
    },
    {
      "cell_type": "code",
      "metadata": {
        "id": "PNurJtxzHUp-"
      },
      "source": [
        "n,x=map(int, input().split())\n",
        "a=list(map(int, input().split()))\n",
        "for i in range(1,n,2):\n",
        "    a[i]-=1\n",
        "if x>=sum(a):\n",
        "    print('Yes')\n",
        "else:\n",
        "    print('No')"
      ],
      "execution_count": null,
      "outputs": []
    }
  ]
}