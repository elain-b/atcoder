{
  "nbformat": 4,
  "nbformat_minor": 0,
  "metadata": {
    "colab": {
      "name": "abc162_A - Lucky 7.ipynb",
      "provenance": [],
      "authorship_tag": "ABX9TyPmjEriLXUopBHeFOVCshbV",
      "include_colab_link": true
    },
    "kernelspec": {
      "name": "python3",
      "display_name": "Python 3"
    }
  },
  "cells": [
    {
      "cell_type": "markdown",
      "metadata": {
        "id": "view-in-github",
        "colab_type": "text"
      },
      "source": [
        "<a href=\"https://colab.research.google.com/github/elain-b/atcoder/blob/master/abc162_A_Lucky_7.ipynb\" target=\"_parent\"><img src=\"https://colab.research.google.com/assets/colab-badge.svg\" alt=\"Open In Colab\"/></a>"
      ]
    },
    {
      "cell_type": "code",
      "metadata": {
        "id": "9m5T0Y6zNRtU",
        "colab_type": "code",
        "colab": {}
      },
      "source": [
        "N=input()\n",
        "print('Yes' if '7' in N else 'No')"
      ],
      "execution_count": null,
      "outputs": []
    }
  ]
}