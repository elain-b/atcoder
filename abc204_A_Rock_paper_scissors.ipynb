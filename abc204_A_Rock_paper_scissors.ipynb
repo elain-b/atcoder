{
  "nbformat": 4,
  "nbformat_minor": 0,
  "metadata": {
    "colab": {
      "name": "abc204_A - Rock-paper-scissors.ipynb",
      "provenance": [],
      "authorship_tag": "ABX9TyNue9Tu77RZTkPnDqNK6yy8",
      "include_colab_link": true
    },
    "kernelspec": {
      "name": "python3",
      "display_name": "Python 3"
    },
    "language_info": {
      "name": "python"
    }
  },
  "cells": [
    {
      "cell_type": "markdown",
      "metadata": {
        "id": "view-in-github",
        "colab_type": "text"
      },
      "source": [
        "<a href=\"https://colab.research.google.com/github/elain-b/atcoder/blob/master/abc204_A_Rock_paper_scissors.ipynb\" target=\"_parent\"><img src=\"https://colab.research.google.com/assets/colab-badge.svg\" alt=\"Open In Colab\"/></a>"
      ]
    },
    {
      "cell_type": "code",
      "metadata": {
        "id": "bEjwsZ5raZjr"
      },
      "source": [
        "x,y=map(int,input().split())\n",
        "if x==0 and y==1:\n",
        "    print(2)\n",
        "elif x==0 and y==2:\n",
        "    print(1)\n",
        "elif x==1 and y==0:\n",
        "    print(2)\n",
        "elif x==1 and y==2:\n",
        "    print(0)\n",
        "elif x==2 and y==0:\n",
        "    print(1)\n",
        "elif x==2 and y==1:\n",
        "    print(0)\n",
        "elif x==0 and y==0:\n",
        "    print(0)\n",
        "elif x==1 and y==1:\n",
        "    print(1)\n",
        "elif x==2 and y==2:\n",
        "    print(2)"
      ],
      "execution_count": null,
      "outputs": []
    }
  ]
}