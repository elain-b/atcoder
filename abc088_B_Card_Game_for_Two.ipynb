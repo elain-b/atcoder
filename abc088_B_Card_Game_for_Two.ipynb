{
  "nbformat": 4,
  "nbformat_minor": 0,
  "metadata": {
    "colab": {
      "name": "abc088-B - Card Game for Two.ipynb",
      "provenance": [],
      "include_colab_link": true
    },
    "kernelspec": {
      "name": "python3",
      "display_name": "Python 3"
    }
  },
  "cells": [
    {
      "cell_type": "markdown",
      "metadata": {
        "id": "view-in-github",
        "colab_type": "text"
      },
      "source": [
        "<a href=\"https://colab.research.google.com/github/elain-b/atcoder/blob/master/abc088_B_Card_Game_for_Two.ipynb\" target=\"_parent\"><img src=\"https://colab.research.google.com/assets/colab-badge.svg\" alt=\"Open In Colab\"/></a>"
      ]
    },
    {
      "cell_type": "code",
      "metadata": {
        "id": "aZCzJM553p6A",
        "colab_type": "code",
        "outputId": "fc739789-caf4-46f3-8e33-4530bee2bef8",
        "colab": {
          "base_uri": "https://localhost:8080/",
          "height": 68
        }
      },
      "source": [
        "x = int(input())\n",
        "y = [int(i) for i in input().split()]\n",
        "y.sort(reverse=True)\n",
        "a = 0\n",
        "b = 0\n",
        "for i in range(1, x+1):\n",
        "    if (i % 2) != 0:\n",
        "        a += y[i-1]\n",
        "    else:\n",
        "        b += y[i-1]\n",
        "print(a-b)"
      ],
      "execution_count": 0,
      "outputs": [
        {
          "output_type": "stream",
          "text": [
            "2\n",
            "3 1\n",
            "2\n"
          ],
          "name": "stdout"
        }
      ]
    },
    {
      "cell_type": "code",
      "metadata": {
        "id": "T-q4VcmbDiPU",
        "colab_type": "code",
        "colab": {
          "base_uri": "https://localhost:8080/",
          "height": 68
        },
        "outputId": "7801a6e8-8ce1-4850-f14e-45a20d3de2c1"
      },
      "source": [
        "n = int(input())\n",
        "a = sorted(list(map(int, input().split())), reverse=True)\n",
        "print(sum(a[::2]) - sum(a[1::2]))"
      ],
      "execution_count": 1,
      "outputs": [
        {
          "output_type": "stream",
          "text": [
            "2\n",
            "3 1\n",
            "2\n"
          ],
          "name": "stdout"
        }
      ]
    },
    {
      "cell_type": "code",
      "metadata": {
        "id": "30HDHqFrD-tO",
        "colab_type": "code",
        "colab": {}
      },
      "source": [
        ""
      ],
      "execution_count": 0,
      "outputs": []
    }
  ]
}