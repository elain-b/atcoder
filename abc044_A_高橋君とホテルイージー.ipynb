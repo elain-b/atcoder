{
  "nbformat": 4,
  "nbformat_minor": 0,
  "metadata": {
    "colab": {
      "name": "abc044_A - 高橋君とホテルイージー.ipynb",
      "provenance": [],
      "collapsed_sections": [],
      "authorship_tag": "ABX9TyOUGQs7sGg1CEDeFWxtrme4",
      "include_colab_link": true
    },
    "kernelspec": {
      "name": "python3",
      "display_name": "Python 3"
    }
  },
  "cells": [
    {
      "cell_type": "markdown",
      "metadata": {
        "id": "view-in-github",
        "colab_type": "text"
      },
      "source": [
        "<a href=\"https://colab.research.google.com/github/elain-b/atcoder/blob/master/abc044_A_%E9%AB%98%E6%A9%8B%E5%90%9B%E3%81%A8%E3%83%9B%E3%83%86%E3%83%AB%E3%82%A4%E3%83%BC%E3%82%B8%E3%83%BC.ipynb\" target=\"_parent\"><img src=\"https://colab.research.google.com/assets/colab-badge.svg\" alt=\"Open In Colab\"/></a>"
      ]
    },
    {
      "cell_type": "code",
      "metadata": {
        "id": "IvL6yK8RaBWf",
        "colab_type": "code",
        "colab": {}
      },
      "source": [
        "# https://atcoder.jp/contests/abc044/tasks/abc044_a"
      ],
      "execution_count": null,
      "outputs": []
    },
    {
      "cell_type": "code",
      "metadata": {
        "id": "Iy20tGKcZyyH",
        "colab_type": "code",
        "colab": {}
      },
      "source": [
        "n=int(input())\n",
        "k=int(input())\n",
        "x=int(input())\n",
        "y=int(input())\n",
        "if k>=n:\n",
        "    print(n*x)\n",
        "else:\n",
        "    print((x*k)+(y*(n-k)))"
      ],
      "execution_count": null,
      "outputs": []
    }
  ]
}