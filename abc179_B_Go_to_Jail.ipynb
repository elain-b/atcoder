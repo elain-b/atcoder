{
  "nbformat": 4,
  "nbformat_minor": 0,
  "metadata": {
    "colab": {
      "name": "abc179_B - Go to Jail.ipynb",
      "provenance": [],
      "collapsed_sections": [],
      "authorship_tag": "ABX9TyMXUhSdKTtEcwzPiXbDCaej",
      "include_colab_link": true
    },
    "kernelspec": {
      "name": "python3",
      "display_name": "Python 3"
    }
  },
  "cells": [
    {
      "cell_type": "markdown",
      "metadata": {
        "id": "view-in-github",
        "colab_type": "text"
      },
      "source": [
        "<a href=\"https://colab.research.google.com/github/elain-b/atcoder/blob/master/abc179_B_Go_to_Jail.ipynb\" target=\"_parent\"><img src=\"https://colab.research.google.com/assets/colab-badge.svg\" alt=\"Open In Colab\"/></a>"
      ]
    },
    {
      "cell_type": "code",
      "metadata": {
        "id": "Dz2ykn9UY9mR",
        "colab_type": "code",
        "colab": {}
      },
      "source": [
        "n=int(input())\n",
        "ans=\"No\"\n",
        "num=0\n",
        "for i in range(n):\n",
        "    d1,d2=list(map(int,input().split()))\n",
        "    if d1==d2:\n",
        "        num+=1\n",
        "        if num==3:\n",
        "            ans='Yes'\n",
        "            break\n",
        "    else:\n",
        "        num=0\n",
        "        continue\n",
        "print(ans)"
      ],
      "execution_count": null,
      "outputs": []
    }
  ]
}