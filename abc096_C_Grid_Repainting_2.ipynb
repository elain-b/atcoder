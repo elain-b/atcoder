{
  "nbformat": 4,
  "nbformat_minor": 0,
  "metadata": {
    "colab": {
      "name": "abc096_C_Grid_Repainting_2.ipynb",
      "provenance": [],
      "include_colab_link": true
    },
    "kernelspec": {
      "name": "python3",
      "display_name": "Python 3"
    }
  },
  "cells": [
    {
      "cell_type": "markdown",
      "metadata": {
        "id": "view-in-github",
        "colab_type": "text"
      },
      "source": [
        "<a href=\"https://colab.research.google.com/github/elain-b/atcoder/blob/master/abc096_C_Grid_Repainting_2.ipynb\" target=\"_parent\"><img src=\"https://colab.research.google.com/assets/colab-badge.svg\" alt=\"Open In Colab\"/></a>"
      ]
    },
    {
      "cell_type": "code",
      "metadata": {
        "id": "mbW9yGgC8Fp6",
        "colab_type": "code",
        "colab": {
          "base_uri": "https://localhost:8080/",
          "height": 102
        },
        "outputId": "f2c1f1d0-122d-42f7-eee5-cb41f707bbed"
      },
      "source": [
        "h, w = map(int,input().split())\n",
        "s = []\n",
        "for i in range(h):s.append(list(input()))\n",
        "dx = [-1, 0, 1, 0]\n",
        "dy = [0, 1, 0,-1]\n",
        "for i in range(h):\n",
        "    for j in range(w):\n",
        "        if s[i][j] == \"#\":\n",
        "            flag=False\n",
        "            for k in range(4):\n",
        "                x = j+dx[k];y=i+dy[k]\n",
        "                if 0 <= x and x <= w-1 and 0 <= y and y <= h-1:\n",
        "                    if s[y][x]==\"#\":flag=True\n",
        "            if not flag:\n",
        "                print('No')\n",
        "                exit()\n",
        "print('Yes')"
      ],
      "execution_count": 1,
      "outputs": [
        {
          "output_type": "stream",
          "text": [
            "3 3\n",
            ".#.\n",
            "###\n",
            ".#.\n",
            "Yes\n"
          ],
          "name": "stdout"
        }
      ]
    }
  ]
}