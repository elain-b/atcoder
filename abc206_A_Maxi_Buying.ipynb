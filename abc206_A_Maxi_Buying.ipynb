{
  "nbformat": 4,
  "nbformat_minor": 0,
  "metadata": {
    "colab": {
      "name": "abc206_A - Maxi-Buying.ipynb",
      "provenance": [],
      "authorship_tag": "ABX9TyPlw7xwMe3duCGmUAn2qY4v",
      "include_colab_link": true
    },
    "kernelspec": {
      "name": "python3",
      "display_name": "Python 3"
    },
    "language_info": {
      "name": "python"
    }
  },
  "cells": [
    {
      "cell_type": "markdown",
      "metadata": {
        "id": "view-in-github",
        "colab_type": "text"
      },
      "source": [
        "<a href=\"https://colab.research.google.com/github/elain-b/atcoder/blob/master/abc206_A_Maxi_Buying.ipynb\" target=\"_parent\"><img src=\"https://colab.research.google.com/assets/colab-badge.svg\" alt=\"Open In Colab\"/></a>"
      ]
    },
    {
      "cell_type": "code",
      "metadata": {
        "id": "kbZq4Wmpgkgo"
      },
      "source": [
        "n=int(input())\n",
        "if round(n*1.08) < 206:\n",
        "    print('Yay!')\n",
        "elif round(n*1.08) == 206:\n",
        "    print('so-so')\n",
        "else:\n",
        "    print(':(')"
      ],
      "execution_count": null,
      "outputs": []
    }
  ]
}