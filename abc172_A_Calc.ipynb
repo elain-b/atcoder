{
  "nbformat": 4,
  "nbformat_minor": 0,
  "metadata": {
    "colab": {
      "name": "abc172_A - Calc.ipynb",
      "provenance": [],
      "authorship_tag": "ABX9TyMUu25QSdoSDPUUR2BaF+Le",
      "include_colab_link": true
    },
    "kernelspec": {
      "name": "python3",
      "display_name": "Python 3"
    }
  },
  "cells": [
    {
      "cell_type": "markdown",
      "metadata": {
        "id": "view-in-github",
        "colab_type": "text"
      },
      "source": [
        "<a href=\"https://colab.research.google.com/github/elain-b/atcoder/blob/master/abc172_A_Calc.ipynb\" target=\"_parent\"><img src=\"https://colab.research.google.com/assets/colab-badge.svg\" alt=\"Open In Colab\"/></a>"
      ]
    },
    {
      "cell_type": "code",
      "metadata": {
        "id": "reKHjhzBP72L",
        "colab_type": "code",
        "colab": {}
      },
      "source": [
        "a=int(input())\n",
        "print(a+a**2+a**3)"
      ],
      "execution_count": null,
      "outputs": []
    }
  ]
}