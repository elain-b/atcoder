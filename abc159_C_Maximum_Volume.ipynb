{
  "nbformat": 4,
  "nbformat_minor": 0,
  "metadata": {
    "colab": {
      "name": "abc159_C - Maximum Volume.ipynb",
      "provenance": [],
      "authorship_tag": "ABX9TyPKvvnvSXv2f5yndhMwi4fA",
      "include_colab_link": true
    },
    "kernelspec": {
      "name": "python3",
      "display_name": "Python 3"
    }
  },
  "cells": [
    {
      "cell_type": "markdown",
      "metadata": {
        "id": "view-in-github",
        "colab_type": "text"
      },
      "source": [
        "<a href=\"https://colab.research.google.com/github/elain-b/atcoder/blob/master/abc159_C_Maximum_Volume.ipynb\" target=\"_parent\"><img src=\"https://colab.research.google.com/assets/colab-badge.svg\" alt=\"Open In Colab\"/></a>"
      ]
    },
    {
      "cell_type": "code",
      "metadata": {
        "id": "gg6uMeVF22Ye",
        "colab_type": "code",
        "colab": {}
      },
      "source": [
        "# https://atcoder.jp/contests/abc159/tasks/abc159_c"
      ],
      "execution_count": 0,
      "outputs": []
    },
    {
      "cell_type": "code",
      "metadata": {
        "id": "s37YcYXh1PFb",
        "colab_type": "code",
        "colab": {}
      },
      "source": [
        "print(int(input())**3/27.0)"
      ],
      "execution_count": 0,
      "outputs": []
    }
  ]
}