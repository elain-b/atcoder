{
  "nbformat": 4,
  "nbformat_minor": 0,
  "metadata": {
    "colab": {
      "name": "abc160_C - Traveling Salesman around Lake.ipynb",
      "provenance": [],
      "collapsed_sections": [],
      "authorship_tag": "ABX9TyPjyC3uCUXEKROX9JUITF2j",
      "include_colab_link": true
    },
    "kernelspec": {
      "name": "python3",
      "display_name": "Python 3"
    }
  },
  "cells": [
    {
      "cell_type": "markdown",
      "metadata": {
        "id": "view-in-github",
        "colab_type": "text"
      },
      "source": [
        "<a href=\"https://colab.research.google.com/github/elain-b/atcoder/blob/master/abc160_C_Traveling_Salesman_around_Lake.ipynb\" target=\"_parent\"><img src=\"https://colab.research.google.com/assets/colab-badge.svg\" alt=\"Open In Colab\"/></a>"
      ]
    },
    {
      "cell_type": "code",
      "metadata": {
        "id": "D87EkAuIshbe",
        "colab_type": "code",
        "colab": {}
      },
      "source": [
        "# https://atcoder.jp/contests/abc160/tasks/abc160_c"
      ],
      "execution_count": 0,
      "outputs": []
    },
    {
      "cell_type": "code",
      "metadata": {
        "id": "aZ2FCY-xsHhO",
        "colab_type": "code",
        "colab": {}
      },
      "source": [
        "k,n=map(int, input().split())\n",
        "a=list(map(int, input().split()))\n",
        "b=[]\n",
        "for i in range(n-1):\n",
        "    b.append(a[i+1]-a[i])\n",
        "b.append((k-a[n-1])+a[0])\n",
        "print(k-max(b))"
      ],
      "execution_count": 0,
      "outputs": []
    }
  ]
}