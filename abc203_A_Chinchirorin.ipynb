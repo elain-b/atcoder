{
  "nbformat": 4,
  "nbformat_minor": 0,
  "metadata": {
    "colab": {
      "name": "abc203_A - Chinchirorin.ipynb",
      "provenance": [],
      "authorship_tag": "ABX9TyO2OlcmLR7JsAQqGetVY9f+",
      "include_colab_link": true
    },
    "kernelspec": {
      "name": "python3",
      "display_name": "Python 3"
    },
    "language_info": {
      "name": "python"
    }
  },
  "cells": [
    {
      "cell_type": "markdown",
      "metadata": {
        "id": "view-in-github",
        "colab_type": "text"
      },
      "source": [
        "<a href=\"https://colab.research.google.com/github/elain-b/atcoder/blob/master/abc203_A_Chinchirorin.ipynb\" target=\"_parent\"><img src=\"https://colab.research.google.com/assets/colab-badge.svg\" alt=\"Open In Colab\"/></a>"
      ]
    },
    {
      "cell_type": "code",
      "metadata": {
        "id": "4wBKB80HZJ1h"
      },
      "source": [
        "s=input().split()\n",
        "for i in range(2):\n",
        "    if s.count(s[i])==2:\n",
        "        for j in range(len(s)-1):\n",
        "            if s[j] != s[i]:\n",
        "                print(s[j])\n",
        "        exit()\n",
        "    elif s.count(s[i])==3:\n",
        "        print(s[0])\n",
        "        exit()\n",
        "    else:\n",
        "        print(0)\n",
        "        exit()"
      ],
      "execution_count": null,
      "outputs": []
    }
  ]
}