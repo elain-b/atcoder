{
  "nbformat": 4,
  "nbformat_minor": 0,
  "metadata": {
    "colab": {
      "name": "abc154_A - Remaining Balls.ipynb",
      "provenance": [],
      "authorship_tag": "ABX9TyN91KX17a9Fb1M0Ze6xxnNU",
      "include_colab_link": true
    },
    "kernelspec": {
      "name": "python3",
      "display_name": "Python 3"
    }
  },
  "cells": [
    {
      "cell_type": "markdown",
      "metadata": {
        "id": "view-in-github",
        "colab_type": "text"
      },
      "source": [
        "<a href=\"https://colab.research.google.com/github/elain-b/atcoder/blob/master/abc154_A_Remaining_Balls.ipynb\" target=\"_parent\"><img src=\"https://colab.research.google.com/assets/colab-badge.svg\" alt=\"Open In Colab\"/></a>"
      ]
    },
    {
      "cell_type": "code",
      "metadata": {
        "id": "os61sAVd8JQ5",
        "colab_type": "code",
        "colab": {}
      },
      "source": [
        "s,t=map(str,input().split())\n",
        "a,b=map(int,input().split())\n",
        "u=input()\n",
        "if u == s:\n",
        "    print(a-1, b)\n",
        "else:\n",
        "    print(a, b-1)"
      ],
      "execution_count": 0,
      "outputs": []
    }
  ]
}