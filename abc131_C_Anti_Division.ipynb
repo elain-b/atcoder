{
  "nbformat": 4,
  "nbformat_minor": 0,
  "metadata": {
    "colab": {
      "name": "abc131_C - Anti-Division.ipynb",
      "provenance": [],
      "authorship_tag": "ABX9TyMM2z8ONt6G1B8/RXRdbwsJ",
      "include_colab_link": true
    },
    "kernelspec": {
      "name": "python3",
      "display_name": "Python 3"
    }
  },
  "cells": [
    {
      "cell_type": "markdown",
      "metadata": {
        "id": "view-in-github",
        "colab_type": "text"
      },
      "source": [
        "<a href=\"https://colab.research.google.com/github/elain-b/atcoder/blob/master/abc131_C_Anti_Division.ipynb\" target=\"_parent\"><img src=\"https://colab.research.google.com/assets/colab-badge.svg\" alt=\"Open In Colab\"/></a>"
      ]
    },
    {
      "cell_type": "code",
      "metadata": {
        "id": "MfsSyevd3k0J",
        "colab_type": "code",
        "colab": {}
      },
      "source": [
        "import math\n",
        "A,B,C,D=list(map(int,input().split()))\n",
        "E=int(C * D / math.gcd(C, D))\n",
        "print(((((B-A)+1)-((B//C)-((A-1)//C)))-((B//D)-((A-1)//D)))+(B//E)-((A-1)//E))"
      ],
      "execution_count": null,
      "outputs": []
    }
  ]
}