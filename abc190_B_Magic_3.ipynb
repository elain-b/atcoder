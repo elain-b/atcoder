{
  "nbformat": 4,
  "nbformat_minor": 0,
  "metadata": {
    "colab": {
      "name": "abc190_B - Magic 3.ipynb",
      "provenance": [],
      "authorship_tag": "ABX9TyP0Fs86sLcM0O8NUoJjWhLw",
      "include_colab_link": true
    },
    "kernelspec": {
      "name": "python3",
      "display_name": "Python 3"
    }
  },
  "cells": [
    {
      "cell_type": "markdown",
      "metadata": {
        "id": "view-in-github",
        "colab_type": "text"
      },
      "source": [
        "<a href=\"https://colab.research.google.com/github/elain-b/atcoder/blob/master/abc190_B_Magic_3.ipynb\" target=\"_parent\"><img src=\"https://colab.research.google.com/assets/colab-badge.svg\" alt=\"Open In Colab\"/></a>"
      ]
    },
    {
      "cell_type": "code",
      "metadata": {
        "id": "pEsUpba2_zPC"
      },
      "source": [
        "n,s,d=map(int,input().split(\" \"))\n",
        "flag=False\n",
        "for i in range(n):\n",
        "    x,y=map(int,input().split(\" \"))\n",
        "    if x<s and y>d: # x>sが間違ってた\n",
        "        flag=True\n",
        "    else:\n",
        "        continue\n",
        "if not flag:\n",
        "    print('No')\n",
        "elif flag:\n",
        "    print('Yes')"
      ],
      "execution_count": null,
      "outputs": []
    }
  ]
}