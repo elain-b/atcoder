{
  "nbformat": 4,
  "nbformat_minor": 0,
  "metadata": {
    "colab": {
      "name": "B074:コメントの順序.ipynb",
      "provenance": [],
      "collapsed_sections": [],
      "authorship_tag": "ABX9TyNNWo29jIPnE1lok3S9fO4A",
      "include_colab_link": true
    },
    "kernelspec": {
      "name": "python3",
      "display_name": "Python 3"
    }
  },
  "cells": [
    {
      "cell_type": "markdown",
      "metadata": {
        "id": "view-in-github",
        "colab_type": "text"
      },
      "source": [
        "<a href=\"https://colab.research.google.com/github/elain-b/atcoder/blob/master/B074_%E3%82%B3%E3%83%A1%E3%83%B3%E3%83%88%E3%81%AE%E9%A0%86%E5%BA%8F.ipynb\" target=\"_parent\"><img src=\"https://colab.research.google.com/assets/colab-badge.svg\" alt=\"Open In Colab\"/></a>"
      ]
    },
    {
      "cell_type": "code",
      "metadata": {
        "id": "6iU72DIpJKMz"
      },
      "source": [
        "n=int(input())\n",
        "m,l,k={},{},{}\n",
        "for i in range(n):\n",
        "    a,b,c=input().split()\n",
        "    m[a]=b\n",
        "    k[a]=int(c)\n",
        "    l[b]=c\n",
        "u={}\n",
        "for i in m:\n",
        "    if i not in l:\n",
        "        u[i]=m[i]\n",
        "for i in u:\n",
        "    h=i\n",
        "    while m[h]!='None' and h not in m.values():\n",
        "        o=k.pop(h)\n",
        "        h=m.pop(h)\n",
        "        k[h]+=o\n",
        "g=\"\"\n",
        "for i in k:\n",
        "    if g==\"\":\n",
        "        g=i\n",
        "    else:\n",
        "        if k[i]==k[g] and int(i)<int(g):\n",
        "            g=i\n",
        "        elif k[i]>k[g]:\n",
        "            g=i\n",
        "print(g)"
      ],
      "execution_count": null,
      "outputs": []
    }
  ]
}