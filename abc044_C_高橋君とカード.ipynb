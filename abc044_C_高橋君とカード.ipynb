{
  "nbformat": 4,
  "nbformat_minor": 0,
  "metadata": {
    "colab": {
      "name": "abc044_C - 高橋君とカード.ipynb",
      "provenance": [],
      "collapsed_sections": [],
      "authorship_tag": "ABX9TyNa6LCAXQUGSRI536D/YiJY",
      "include_colab_link": true
    },
    "kernelspec": {
      "name": "python3",
      "display_name": "Python 3"
    }
  },
  "cells": [
    {
      "cell_type": "markdown",
      "metadata": {
        "id": "view-in-github",
        "colab_type": "text"
      },
      "source": [
        "<a href=\"https://colab.research.google.com/github/elain-b/atcoder/blob/master/abc044_C_%E9%AB%98%E6%A9%8B%E5%90%9B%E3%81%A8%E3%82%AB%E3%83%BC%E3%83%89.ipynb\" target=\"_parent\"><img src=\"https://colab.research.google.com/assets/colab-badge.svg\" alt=\"Open In Colab\"/></a>"
      ]
    },
    {
      "cell_type": "code",
      "metadata": {
        "id": "089zD8d6PeAT",
        "colab_type": "code",
        "colab": {}
      },
      "source": [
        "# https://atcoder.jp/contests/abc044/tasks/arc060_a"
      ],
      "execution_count": null,
      "outputs": []
    },
    {
      "cell_type": "code",
      "metadata": {
        "id": "Pa23ktBGPWPP",
        "colab_type": "code",
        "colab": {}
      },
      "source": [
        "import itertools\n",
        "from statistics import mean\n",
        "n, a=map(int, input().split())\n",
        "x=list(map(int, input().split()))\n",
        "b=0\n",
        "for i in range(2,n):\n",
        "    c = list(itertools.combinations(x, i))\n",
        "    for j in c:\n",
        "        mea = mean(j)\n",
        "        if mea==a:\n",
        "            b+=1\n",
        "print(b+x.count(a))"
      ],
      "execution_count": null,
      "outputs": []
    }
  ]
}