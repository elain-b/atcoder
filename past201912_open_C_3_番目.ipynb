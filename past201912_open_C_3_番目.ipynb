{
  "nbformat": 4,
  "nbformat_minor": 0,
  "metadata": {
    "colab": {
      "name": "past201912-open_C - 3 番目.ipynb",
      "provenance": [],
      "collapsed_sections": [],
      "authorship_tag": "ABX9TyM+v4hMMOdi0jenlIqhEyt6",
      "include_colab_link": true
    },
    "kernelspec": {
      "name": "python3",
      "display_name": "Python 3"
    }
  },
  "cells": [
    {
      "cell_type": "markdown",
      "metadata": {
        "id": "view-in-github",
        "colab_type": "text"
      },
      "source": [
        "<a href=\"https://colab.research.google.com/github/elain-b/atcoder/blob/master/past201912_open_C_3_%E7%95%AA%E7%9B%AE.ipynb\" target=\"_parent\"><img src=\"https://colab.research.google.com/assets/colab-badge.svg\" alt=\"Open In Colab\"/></a>"
      ]
    },
    {
      "cell_type": "code",
      "metadata": {
        "id": "JTokd9_bykeJ",
        "colab_type": "code",
        "colab": {}
      },
      "source": [
        "a=list(map(int, input().split()))\n",
        "a.sort(reverse=True)\n",
        "print(a[2])"
      ],
      "execution_count": 0,
      "outputs": []
    }
  ]
}