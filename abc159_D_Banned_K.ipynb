{
  "nbformat": 4,
  "nbformat_minor": 0,
  "metadata": {
    "colab": {
      "name": "abc159_D - Banned K.ipynb",
      "provenance": [],
      "collapsed_sections": [],
      "authorship_tag": "ABX9TyPxtg1SBD73HJTW4VyxCvcO",
      "include_colab_link": true
    },
    "kernelspec": {
      "name": "python3",
      "display_name": "Python 3"
    }
  },
  "cells": [
    {
      "cell_type": "markdown",
      "metadata": {
        "id": "view-in-github",
        "colab_type": "text"
      },
      "source": [
        "<a href=\"https://colab.research.google.com/github/elain-b/atcoder/blob/master/abc159_D_Banned_K.ipynb\" target=\"_parent\"><img src=\"https://colab.research.google.com/assets/colab-badge.svg\" alt=\"Open In Colab\"/></a>"
      ]
    },
    {
      "cell_type": "code",
      "metadata": {
        "id": "eI2uMy9qCVCV",
        "colab_type": "code",
        "colab": {}
      },
      "source": [
        "# https://atcoder.jp/contests/abc159/tasks/abc159_d"
      ],
      "execution_count": 0,
      "outputs": []
    },
    {
      "cell_type": "code",
      "metadata": {
        "id": "kn4yzknoCNHZ",
        "colab_type": "code",
        "colab": {}
      },
      "source": [
        "import math\n",
        "def has_duplicates(seq):\n",
        "    return len(seq) != len(set(seq))\n",
        "def permutations_count(n, r):\n",
        "    return math.factorial(n) // math.factorial(n - r)\n",
        "n=int(input())\n",
        "a=list(map(int, input().split()))\n",
        "for q in range(n):\n",
        "    r=list(a)\n",
        "    del r[q]\n",
        "    p=0\n",
        "    if has_duplicates(r):\n",
        "        m=[x for x in set(r) if r.count(x) > 1]\n",
        "        for o in m:\n",
        "            l=r.count(o)\n",
        "            p=p+permutations_count(l, 2)//2\n",
        "    print(p)"
      ],
      "execution_count": 0,
      "outputs": []
    },
    {
      "cell_type": "code",
      "metadata": {
        "id": "76y_-PWz1jPW",
        "colab_type": "code",
        "colab": {}
      },
      "source": [
        "# https://note.nkmk.me/python-collections-counter/\n",
        "# 辞書を作るモジュール"
      ],
      "execution_count": 0,
      "outputs": []
    }
  ]
}