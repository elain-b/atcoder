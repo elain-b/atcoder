{
  "nbformat": 4,
  "nbformat_minor": 0,
  "metadata": {
    "colab": {
      "name": "abc161_ A - ABC Swap .ipynb",
      "provenance": [],
      "collapsed_sections": [],
      "authorship_tag": "ABX9TyMxDuU9GOfSBnxoWC05qvC7",
      "include_colab_link": true
    },
    "kernelspec": {
      "name": "python3",
      "display_name": "Python 3"
    }
  },
  "cells": [
    {
      "cell_type": "markdown",
      "metadata": {
        "id": "view-in-github",
        "colab_type": "text"
      },
      "source": [
        "<a href=\"https://colab.research.google.com/github/elain-b/atcoder/blob/master/abc161__A_ABC_Swap_.ipynb\" target=\"_parent\"><img src=\"https://colab.research.google.com/assets/colab-badge.svg\" alt=\"Open In Colab\"/></a>"
      ]
    },
    {
      "cell_type": "code",
      "metadata": {
        "id": "jF03bRLEFgcu",
        "colab_type": "code",
        "colab": {}
      },
      "source": [
        "x,y,z = map(int, input().split())\n",
        "x,y=y,x\n",
        "x,z=z,x\n",
        "print(x,y,z)"
      ],
      "execution_count": null,
      "outputs": []
    }
  ]
}