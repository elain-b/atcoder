{
  "nbformat": 4,
  "nbformat_minor": 0,
  "metadata": {
    "colab": {
      "name": "abc178_A - Not.ipynb",
      "provenance": [],
      "collapsed_sections": [],
      "authorship_tag": "ABX9TyNx3NVEj0aLyK+uUrgy/o1T",
      "include_colab_link": true
    },
    "kernelspec": {
      "name": "python3",
      "display_name": "Python 3"
    }
  },
  "cells": [
    {
      "cell_type": "markdown",
      "metadata": {
        "id": "view-in-github",
        "colab_type": "text"
      },
      "source": [
        "<a href=\"https://colab.research.google.com/github/elain-b/atcoder/blob/master/abc178_A_Not.ipynb\" target=\"_parent\"><img src=\"https://colab.research.google.com/assets/colab-badge.svg\" alt=\"Open In Colab\"/></a>"
      ]
    },
    {
      "cell_type": "code",
      "metadata": {
        "id": "wFn_SnoZYzLB",
        "colab_type": "code",
        "colab": {}
      },
      "source": [
        "x=int(input())\n",
        "if x==0:\n",
        "    x=1\n",
        "else:\n",
        "    x=0\n",
        "print(x)\n"
      ],
      "execution_count": null,
      "outputs": []
    }
  ]
}