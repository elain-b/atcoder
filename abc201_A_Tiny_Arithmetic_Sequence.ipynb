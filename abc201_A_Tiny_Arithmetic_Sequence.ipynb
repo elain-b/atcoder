{
  "nbformat": 4,
  "nbformat_minor": 0,
  "metadata": {
    "colab": {
      "name": "abc201_A - Tiny Arithmetic Sequence.ipynb",
      "provenance": [],
      "authorship_tag": "ABX9TyNiTA3uao3wPk6Cu9xlkW01",
      "include_colab_link": true
    },
    "kernelspec": {
      "name": "python3",
      "display_name": "Python 3"
    },
    "language_info": {
      "name": "python"
    }
  },
  "cells": [
    {
      "cell_type": "markdown",
      "metadata": {
        "id": "view-in-github",
        "colab_type": "text"
      },
      "source": [
        "<a href=\"https://colab.research.google.com/github/elain-b/atcoder/blob/master/abc201_A_Tiny_Arithmetic_Sequence.ipynb\" target=\"_parent\"><img src=\"https://colab.research.google.com/assets/colab-badge.svg\" alt=\"Open In Colab\"/></a>"
      ]
    },
    {
      "cell_type": "code",
      "metadata": {
        "id": "nb1xdzG-Uv1M"
      },
      "source": [
        "a=list(map(int, input().split()))\n",
        "a.sort(reverse=True)\n",
        "for i in range(1,len(a),2):\n",
        "    if a[i-1]-a[i]==a[i]-a[i+1]:\n",
        "        print('Yes')\n",
        "    else:\n",
        "        print('No')"
      ],
      "execution_count": null,
      "outputs": []
    }
  ]
}