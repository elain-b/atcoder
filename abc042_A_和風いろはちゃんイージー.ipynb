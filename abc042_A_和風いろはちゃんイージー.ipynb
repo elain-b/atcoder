{
  "nbformat": 4,
  "nbformat_minor": 0,
  "metadata": {
    "colab": {
      "name": "abc042_A - 和風いろはちゃんイージー.ipynb",
      "provenance": [],
      "collapsed_sections": [],
      "authorship_tag": "ABX9TyOQ4FwKo24oBexlUU4b9AoI",
      "include_colab_link": true
    },
    "kernelspec": {
      "name": "python3",
      "display_name": "Python 3"
    }
  },
  "cells": [
    {
      "cell_type": "markdown",
      "metadata": {
        "id": "view-in-github",
        "colab_type": "text"
      },
      "source": [
        "<a href=\"https://colab.research.google.com/github/elain-b/atcoder/blob/master/abc042_A_%E5%92%8C%E9%A2%A8%E3%81%84%E3%82%8D%E3%81%AF%E3%81%A1%E3%82%83%E3%82%93%E3%82%A4%E3%83%BC%E3%82%B8%E3%83%BC.ipynb\" target=\"_parent\"><img src=\"https://colab.research.google.com/assets/colab-badge.svg\" alt=\"Open In Colab\"/></a>"
      ]
    },
    {
      "cell_type": "code",
      "metadata": {
        "id": "3Qo4WAqG5Qzb",
        "colab_type": "code",
        "colab": {}
      },
      "source": [
        "a=input().split()\n",
        "if a.count('5') == 2:\n",
        "    if a.count('7')==1:\n",
        "        print('YES')\n",
        "else:\n",
        "    print('NO')"
      ],
      "execution_count": 0,
      "outputs": []
    }
  ]
}