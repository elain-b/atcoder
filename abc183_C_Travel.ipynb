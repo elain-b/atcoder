{
  "nbformat": 4,
  "nbformat_minor": 0,
  "metadata": {
    "colab": {
      "name": "abc183-C - Travel.ipynb",
      "provenance": [],
      "authorship_tag": "ABX9TyMqYXSMAuqZriGWO6FkhYqW",
      "include_colab_link": true
    },
    "kernelspec": {
      "name": "python3",
      "display_name": "Python 3"
    }
  },
  "cells": [
    {
      "cell_type": "markdown",
      "metadata": {
        "id": "view-in-github",
        "colab_type": "text"
      },
      "source": [
        "<a href=\"https://colab.research.google.com/github/elain-b/atcoder/blob/master/abc183_C_Travel.ipynb\" target=\"_parent\"><img src=\"https://colab.research.google.com/assets/colab-badge.svg\" alt=\"Open In Colab\"/></a>"
      ]
    },
    {
      "cell_type": "code",
      "metadata": {
        "id": "yuyXqdq0LO8N"
      },
      "source": [
        "https://atcoder.jp/contests/abc183/tasks/abc183_c"
      ],
      "execution_count": null,
      "outputs": []
    },
    {
      "cell_type": "code",
      "metadata": {
        "id": "0QVHKLy6LCbB"
      },
      "source": [
        "from itertools import permutations\n",
        "N,K=list(map(int,input().split()))\n",
        "time=[]\n",
        "for i in range(N):\n",
        "    j=list(map(int,input().split()))\n",
        "    time.append(j)\n",
        "List=[]\n",
        "for i in range(2,N+1):\n",
        "    List.append(i)\n",
        "num=list(permutations(List,N-1))\n",
        "for i in range(len(num)):\n",
        "    num[i]=(1,)+num[i]+(1,)\n",
        "ans=[]\n",
        "for i in range(len(num)):\n",
        "    f=0\n",
        "    for j in range(N):\n",
        "        f+=time[num[i][j]-1][num[i][j+1]-1]\n",
        "    ans.append(f)\n",
        "c=0\n",
        "for i in ans:\n",
        "    if i==K:\n",
        "        c+=1\n",
        "print(c)\n"
      ],
      "execution_count": null,
      "outputs": []
    }
  ]
}