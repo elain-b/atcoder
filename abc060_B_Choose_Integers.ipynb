{
  "nbformat": 4,
  "nbformat_minor": 0,
  "metadata": {
    "colab": {
      "name": "abc060_B_Choose_Integers.ipynb",
      "provenance": [],
      "include_colab_link": true
    },
    "kernelspec": {
      "name": "python3",
      "display_name": "Python 3"
    }
  },
  "cells": [
    {
      "cell_type": "markdown",
      "metadata": {
        "id": "view-in-github",
        "colab_type": "text"
      },
      "source": [
        "<a href=\"https://colab.research.google.com/github/elain-b/atcoder/blob/master/abc060_B_Choose_Integers.ipynb\" target=\"_parent\"><img src=\"https://colab.research.google.com/assets/colab-badge.svg\" alt=\"Open In Colab\"/></a>"
      ]
    },
    {
      "cell_type": "code",
      "metadata": {
        "id": "Lne2FHcLq8Q9",
        "colab_type": "code",
        "colab": {
          "base_uri": "https://localhost:8080/",
          "height": 51
        },
        "outputId": "ff903054-6753-4bce-85ee-f98153d01953"
      },
      "source": [
        "a, b, c = [int(x) for x in input().split()]\n",
        "f = False\n",
        "for i in range(2, 100):\n",
        "    ans = i * a\n",
        "    if ans % b == c:\n",
        "        print(\"YES\")\n",
        "        f = True\n",
        "        break\n",
        "if f == False:\n",
        "    print(\"NO\")"
      ],
      "execution_count": 15,
      "outputs": [
        {
          "output_type": "stream",
          "text": [
            "3 3 4\n",
            "NO\n"
          ],
          "name": "stdout"
        }
      ]
    },
    {
      "cell_type": "code",
      "metadata": {
        "id": "qaAh9W6rrHnl",
        "colab_type": "code",
        "colab": {
          "base_uri": "https://localhost:8080/",
          "height": 51
        },
        "outputId": "e3025bec-7ab0-4779-8b60-c5292671015e"
      },
      "source": [
        "a, b, c = map(int,input().split())\n",
        "\n",
        "for i in range(1, b+1):\n",
        "    if a*i%b == c:\n",
        "        print(\"YES\")\n",
        "        exit()\n",
        "print(\"NO\")"
      ],
      "execution_count": 26,
      "outputs": [
        {
          "output_type": "stream",
          "text": [
            "3 3 4\n",
            "NO\n"
          ],
          "name": "stdout"
        }
      ]
    }
  ]
}