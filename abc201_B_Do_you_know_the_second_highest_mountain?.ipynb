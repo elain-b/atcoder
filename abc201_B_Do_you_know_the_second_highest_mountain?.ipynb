{
  "nbformat": 4,
  "nbformat_minor": 0,
  "metadata": {
    "colab": {
      "name": "abc201_B - Do you know the second highest mountain?.ipynb",
      "provenance": [],
      "collapsed_sections": [],
      "authorship_tag": "ABX9TyPA+u4wCcqDlsNYc+2R6cWh",
      "include_colab_link": true
    },
    "kernelspec": {
      "name": "python3",
      "display_name": "Python 3"
    },
    "language_info": {
      "name": "python"
    }
  },
  "cells": [
    {
      "cell_type": "markdown",
      "metadata": {
        "id": "view-in-github",
        "colab_type": "text"
      },
      "source": [
        "<a href=\"https://colab.research.google.com/github/elain-b/atcoder/blob/master/abc201_B_Do_you_know_the_second_highest_mountain%3F.ipynb\" target=\"_parent\"><img src=\"https://colab.research.google.com/assets/colab-badge.svg\" alt=\"Open In Colab\"/></a>"
      ]
    },
    {
      "cell_type": "code",
      "metadata": {
        "id": "Y_w1ee48UVZn"
      },
      "source": [
        "N=int(input())\n",
        "dic={}\n",
        "for i in range(N):\n",
        "    s,t=input().split()\n",
        "    dic[s]=int(t)\n",
        "sdic=sorted(dic.items(), key=lambda i: i[1], reverse=True)\n",
        "print(sdic[1][0])"
      ],
      "execution_count": null,
      "outputs": []
    }
  ]
}