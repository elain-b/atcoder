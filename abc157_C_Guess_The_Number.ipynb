{
  "nbformat": 4,
  "nbformat_minor": 0,
  "metadata": {
    "colab": {
      "name": "abc157_C - Guess The Number.ipynb",
      "provenance": [],
      "collapsed_sections": [],
      "authorship_tag": "ABX9TyMW1LLN0sc7lzu+vXjnmq85",
      "include_colab_link": true
    },
    "kernelspec": {
      "name": "python3",
      "display_name": "Python 3"
    }
  },
  "cells": [
    {
      "cell_type": "markdown",
      "metadata": {
        "id": "view-in-github",
        "colab_type": "text"
      },
      "source": [
        "<a href=\"https://colab.research.google.com/github/elain-b/atcoder/blob/master/abc157_C_Guess_The_Number.ipynb\" target=\"_parent\"><img src=\"https://colab.research.google.com/assets/colab-badge.svg\" alt=\"Open In Colab\"/></a>"
      ]
    },
    {
      "cell_type": "code",
      "metadata": {
        "id": "EoWDMpkgjBpj",
        "colab_type": "code",
        "colab": {}
      },
      "source": [
        "A,B,M=list(map(int, input().split()))\n",
        "a=list(map(int, input().split()))\n",
        "b=list(map(int, input().split()))\n",
        "j=[]\n",
        "for i in range(M):\n",
        "    x,y,c=map(int,input().split())\n",
        "    j.append(a[x-1]+b[y-1]-c)\n",
        "for k in range(A):\n",
        "    for m in range(A):\n",
        "        j.append(a[k]+b[m])\n",
        "print(min(j))\n",
        "# 2 3 1\n",
        "# 3 3\n",
        "# 3 3 3\n",
        "# 1 2 1\n",
        "# A=map(int, input().split())\n",
        "# print(A)"
      ],
      "execution_count": 0,
      "outputs": []
    }
  ]
}