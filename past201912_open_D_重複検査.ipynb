{
  "nbformat": 4,
  "nbformat_minor": 0,
  "metadata": {
    "colab": {
      "name": "past201912-open_D - 重複検査.ipynb",
      "provenance": [],
      "collapsed_sections": [],
      "authorship_tag": "ABX9TyOBqugKUD6wFP7zidMydL4/",
      "include_colab_link": true
    },
    "kernelspec": {
      "name": "python3",
      "display_name": "Python 3"
    }
  },
  "cells": [
    {
      "cell_type": "markdown",
      "metadata": {
        "id": "view-in-github",
        "colab_type": "text"
      },
      "source": [
        "<a href=\"https://colab.research.google.com/github/elain-b/atcoder/blob/master/past201912_open_D_%E9%87%8D%E8%A4%87%E6%A4%9C%E6%9F%BB.ipynb\" target=\"_parent\"><img src=\"https://colab.research.google.com/assets/colab-badge.svg\" alt=\"Open In Colab\"/></a>"
      ]
    },
    {
      "cell_type": "code",
      "metadata": {
        "id": "OgOgX8FD2HBc",
        "colab_type": "code",
        "colab": {}
      },
      "source": [
        "n=int(input())\n",
        "dic={}\n",
        "x,y=0,0\n",
        "for i in range(n):\n",
        "    a=int(input())\n",
        "    if a in dic:\n",
        "        x=a\n",
        "    dic[a]=0\n",
        "for i in range(1,n+1):\n",
        "    if i not in dic:\n",
        "        y=i\n",
        "        break\n",
        "if x==0:\n",
        "    print('Correct')\n",
        "else:\n",
        "    print(x,y)"
      ],
      "execution_count": 0,
      "outputs": []
    }
  ]
}