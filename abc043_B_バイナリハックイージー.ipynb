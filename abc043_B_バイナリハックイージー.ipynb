{
  "nbformat": 4,
  "nbformat_minor": 0,
  "metadata": {
    "colab": {
      "name": "abc043_B - バイナリハックイージー.ipynb",
      "provenance": [],
      "collapsed_sections": [],
      "authorship_tag": "ABX9TyNBi2758iVmjVxnK7RPUzzy",
      "include_colab_link": true
    },
    "kernelspec": {
      "name": "python3",
      "display_name": "Python 3"
    }
  },
  "cells": [
    {
      "cell_type": "markdown",
      "metadata": {
        "id": "view-in-github",
        "colab_type": "text"
      },
      "source": [
        "<a href=\"https://colab.research.google.com/github/elain-b/atcoder/blob/master/abc043_B_%E3%83%90%E3%82%A4%E3%83%8A%E3%83%AA%E3%83%8F%E3%83%83%E3%82%AF%E3%82%A4%E3%83%BC%E3%82%B8%E3%83%BC.ipynb\" target=\"_parent\"><img src=\"https://colab.research.google.com/assets/colab-badge.svg\" alt=\"Open In Colab\"/></a>"
      ]
    },
    {
      "cell_type": "code",
      "metadata": {
        "id": "ci7ZbImN4y4-",
        "colab_type": "code",
        "colab": {}
      },
      "source": [
        "# https://atcoder.jp/contests/abc043/tasks/abc043_b"
      ],
      "execution_count": 0,
      "outputs": []
    },
    {
      "cell_type": "code",
      "metadata": {
        "id": "ied0ATod4tip",
        "colab_type": "code",
        "colab": {}
      },
      "source": [
        "s=input()\n",
        "# print(list(s))\n",
        "a=[]\n",
        "for i in range(len(s)):\n",
        "    if s[i]=='0':\n",
        "        a.append(s[i])\n",
        "    elif s[i]=='1':\n",
        "        a.append(s[i])\n",
        "    else:\n",
        "        if len(a)>0:\n",
        "            del a[-1]\n",
        "print(''.join(a))"
      ],
      "execution_count": 0,
      "outputs": []
    }
  ]
}