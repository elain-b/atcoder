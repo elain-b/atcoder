{
  "nbformat": 4,
  "nbformat_minor": 0,
  "metadata": {
    "colab": {
      "name": "abc176_C - Step.ipynb",
      "provenance": [],
      "authorship_tag": "ABX9TyMM9HcEECqtV9rhDJSA8PDZ",
      "include_colab_link": true
    },
    "kernelspec": {
      "name": "python3",
      "display_name": "Python 3"
    }
  },
  "cells": [
    {
      "cell_type": "markdown",
      "metadata": {
        "id": "view-in-github",
        "colab_type": "text"
      },
      "source": [
        "<a href=\"https://colab.research.google.com/github/elain-b/atcoder/blob/master/abc176_C_Step.ipynb\" target=\"_parent\"><img src=\"https://colab.research.google.com/assets/colab-badge.svg\" alt=\"Open In Colab\"/></a>"
      ]
    },
    {
      "cell_type": "code",
      "metadata": {
        "id": "HmqAk-C2eM86",
        "colab_type": "code",
        "colab": {}
      },
      "source": [
        "N=int(input())\n",
        "a=list(map(int,input().split()))\n",
        "ans=0\n",
        "for i in range(N-1):\n",
        "    if a[i]>=a[i+1]:\n",
        "        ans+=a[i]-a[i+1]\n",
        "        a[i+1]=a[i]\n",
        "print(ans)"
      ],
      "execution_count": null,
      "outputs": []
    }
  ]
}