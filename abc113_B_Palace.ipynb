{
  "nbformat": 4,
  "nbformat_minor": 0,
  "metadata": {
    "colab": {
      "name": "abc113_B_Palace.ipynb",
      "provenance": [],
      "include_colab_link": true
    },
    "kernelspec": {
      "name": "python3",
      "display_name": "Python 3"
    }
  },
  "cells": [
    {
      "cell_type": "markdown",
      "metadata": {
        "id": "view-in-github",
        "colab_type": "text"
      },
      "source": [
        "<a href=\"https://colab.research.google.com/github/elain-b/atcoder/blob/master/abc113_B_Palace.ipynb\" target=\"_parent\"><img src=\"https://colab.research.google.com/assets/colab-badge.svg\" alt=\"Open In Colab\"/></a>"
      ]
    },
    {
      "cell_type": "code",
      "metadata": {
        "id": "mVD4zKvzCyGr",
        "colab_type": "code",
        "colab": {
          "base_uri": "https://localhost:8080/",
          "height": 85
        },
        "outputId": "c5801aee-b695-48c9-ce00-8ce6c70b924d"
      },
      "source": [
        "n=int(input())\n",
        "t,a=list(map(int,input().split()))\n",
        "h=[int(i) for i in input().split()]\n",
        "s=[abs(a-(t-i*0.006)) for i in h]\n",
        "print(s.index(min(s))+1)"
      ],
      "execution_count": 1,
      "outputs": [
        {
          "output_type": "stream",
          "text": [
            "2\n",
            "12 5\n",
            "1000 2000\n",
            "1\n"
          ],
          "name": "stdout"
        }
      ]
    }
  ]
}