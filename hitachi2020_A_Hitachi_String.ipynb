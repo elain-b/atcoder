{
  "nbformat": 4,
  "nbformat_minor": 0,
  "metadata": {
    "colab": {
      "name": "hitachi2020_A - Hitachi String.ipynb",
      "provenance": [],
      "collapsed_sections": [],
      "authorship_tag": "ABX9TyO3v81WsRa2rTa7xCCpO8q2",
      "include_colab_link": true
    },
    "kernelspec": {
      "name": "python3",
      "display_name": "Python 3"
    }
  },
  "cells": [
    {
      "cell_type": "markdown",
      "metadata": {
        "id": "view-in-github",
        "colab_type": "text"
      },
      "source": [
        "<a href=\"https://colab.research.google.com/github/elain-b/atcoder/blob/master/hitachi2020_A_Hitachi_String.ipynb\" target=\"_parent\"><img src=\"https://colab.research.google.com/assets/colab-badge.svg\" alt=\"Open In Colab\"/></a>"
      ]
    },
    {
      "cell_type": "code",
      "metadata": {
        "id": "Dxap5JSLS-kl",
        "colab_type": "code",
        "colab": {}
      },
      "source": [
        "s=input()\n",
        "if len(s)%2==0:\n",
        "    if 'hi'*(len(s)//2)==s:\n",
        "        print('Yes')\n",
        "    else:\n",
        "        print('No')\n",
        "else:\n",
        "    print('No')"
      ],
      "execution_count": 0,
      "outputs": []
    }
  ]
}