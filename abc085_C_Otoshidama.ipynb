{
  "nbformat": 4,
  "nbformat_minor": 0,
  "metadata": {
    "colab": {
      "name": "abc085-C - Otoshidama.ipynb",
      "provenance": [],
      "include_colab_link": true
    },
    "kernelspec": {
      "name": "python3",
      "display_name": "Python 3"
    }
  },
  "cells": [
    {
      "cell_type": "markdown",
      "metadata": {
        "id": "view-in-github",
        "colab_type": "text"
      },
      "source": [
        "<a href=\"https://colab.research.google.com/github/elain-b/atcoder/blob/master/abc085_C_Otoshidama.ipynb\" target=\"_parent\"><img src=\"https://colab.research.google.com/assets/colab-badge.svg\" alt=\"Open In Colab\"/></a>"
      ]
    },
    {
      "cell_type": "code",
      "metadata": {
        "id": "YnPbO64Hc7AT",
        "colab_type": "code",
        "colab": {
          "base_uri": "https://localhost:8080/",
          "height": 51
        },
        "outputId": "59db70ec-2346-493c-de12-ba84683a363b"
      },
      "source": [
        "N,Y = map(int,input().split())\n",
        "def find(N,Y):\n",
        "  for xi in range(N+1):\n",
        "    for yi in range(N+1):\n",
        "      zi = N - xi - yi\n",
        "      s = xi*10000 + yi*5000 + zi*1000      \n",
        "      if s == Y and (xi+yi+zi)<=N and zi>=0 :\n",
        "        print(\"{} {} {}\".format(xi,yi,zi))\n",
        "        return\n",
        "      if s > Y:\n",
        "        break\n",
        "  print(\"-1 -1 -1\")\n",
        "  \n",
        "find(N,Y)\n"
      ],
      "execution_count": 1,
      "outputs": [
        {
          "output_type": "stream",
          "text": [
            "9 45000\n",
            "0 9 0\n"
          ],
          "name": "stdout"
        }
      ]
    },
    {
      "cell_type": "code",
      "metadata": {
        "id": "V_ttougtdLN1",
        "colab_type": "code",
        "colab": {}
      },
      "source": [
        ""
      ],
      "execution_count": 0,
      "outputs": []
    }
  ]
}